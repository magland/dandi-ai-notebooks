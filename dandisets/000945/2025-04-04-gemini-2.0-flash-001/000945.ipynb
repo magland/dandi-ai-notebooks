{
 "cells": [
  {
   "cell_type": "markdown",
   "id": "1dff3d18",
   "metadata": {},
   "source": [
    "# Neural Spiking Data in the Awake Rat Somatosensory Cortex Responding to Trials of Transcranial Focused Ultrasound Stimulation\n",
    "\n",
    "This notebook was AI-generated using dandi-notebook-gen and has not been fully verified.\n",
    "Please be cautious when interpreting the code or results.\n",
    "\n",
    "This notebook provides an introduction to the Dandiset 000945, which contains neural spiking data in the awake rat somatosensory cortex responding to trials of transcranial focused ultrasound stimulation.\n",
    "The dataset includes recordings from 10 male rats implanted with chronic electrodes in the somatosensory cortex.\n",
    "Ultrasound stimulation was delivered at different pulse repetition frequencies (PRFs), and electrophysiological recordings were acquired using 32-channel NeuroNexus electrodes.\n",
    "\n",
    "The notebook demonstrates how to:\n",
    "\n",
    "1.  Load and explore the dataset's structure\n",
    "2.  Access and visualize sample data from NWB files\n",
    "3.  Perform common analyses relevant to the dataset's content\n",
    "\n",
    "Before using this notebook, please ensure you have installed the necessary packages:\n",
    "\n",
    "```bash\n",
    "pip install lindi pynwb matplotlib numpy seaborn dandi\n",
    "```"
   ]
  },
  {
   "cell_type": "code",
   "execution_count": 1,
   "id": "fda99004",
   "metadata": {
    "execution": {
     "iopub.execute_input": "2025-04-04T12:33:14.410209Z",
     "iopub.status.busy": "2025-04-04T12:33:14.409827Z",
     "iopub.status.idle": "2025-04-04T12:33:15.280058Z",
     "shell.execute_reply": "2025-04-04T12:33:15.279386Z"
    }
   },
   "outputs": [
    {
     "data": {
      "text/plain": [
       "[RemoteBlobAsset(client=<dandi.dandiapi.DandiAPIClient object at 0x7f7be306a890>, identifier='bbd6a696-a68a-4790-820e-02794bd7829d', path='sub-BH498/sub-BH498_ses-20240306T124227_ecephys.nwb', size=1674720, created=datetime.datetime(2024, 3, 30, 3, 15, 52, 707737, tzinfo=TzInfo(UTC)), modified=datetime.datetime(2025, 2, 13, 22, 12, 11, 66289, tzinfo=TzInfo(UTC)), blob='6119261b-2891-49dd-8781-44a82a01687b', dandiset_id='000945', version_id='0.250213.2212'),\n",
       " RemoteBlobAsset(client=<dandi.dandiapi.DandiAPIClient object at 0x7f7be306a890>, identifier='d1fa906a-2dc2-4b71-a9e6-26eceafdc21a', path='sub-BH498/sub-BH498_ses-20240305T200606_ecephys.nwb', size=2555728, created=datetime.datetime(2024, 3, 30, 3, 15, 52, 733988, tzinfo=TzInfo(UTC)), modified=datetime.datetime(2025, 2, 13, 22, 12, 11, 88593, tzinfo=TzInfo(UTC)), blob='847a9fbd-6c4b-42a9-b0f9-3da0bfa41cc8', dandiset_id='000945', version_id='0.250213.2212'),\n",
       " RemoteBlobAsset(client=<dandi.dandiapi.DandiAPIClient object at 0x7f7be306a890>, identifier='845dc047-915e-461b-85de-f029b4c8b16f', path='sub-BH498/sub-BH498_ses-20240305T191833_ecephys.nwb', size=5586808, created=datetime.datetime(2024, 3, 30, 3, 15, 52, 735779, tzinfo=TzInfo(UTC)), modified=datetime.datetime(2025, 2, 13, 22, 12, 11, 100298, tzinfo=TzInfo(UTC)), blob='677c8e27-ece6-41b5-a55b-ee633b49393e', dandiset_id='000945', version_id='0.250213.2212'),\n",
       " RemoteBlobAsset(client=<dandi.dandiapi.DandiAPIClient object at 0x7f7be306a890>, identifier='76429bc6-027e-4350-8cf3-e8568db28e58', path='sub-BH498/sub-BH498_ses-20230906T180913_ecephys.nwb', size=6736848, created=datetime.datetime(2024, 3, 30, 3, 15, 52, 769247, tzinfo=TzInfo(UTC)), modified=datetime.datetime(2025, 2, 13, 22, 12, 11, 110189, tzinfo=TzInfo(UTC)), blob='7deb131d-0ff6-443f-920a-ce7ae5008863', dandiset_id='000945', version_id='0.250213.2212'),\n",
       " RemoteBlobAsset(client=<dandi.dandiapi.DandiAPIClient object at 0x7f7be306a890>, identifier='74cb8afa-730d-425b-bf6b-859c04217cac', path='sub-BH498/sub-BH498_ses-20240305T204552_ecephys.nwb', size=4293592, created=datetime.datetime(2024, 3, 30, 3, 15, 53, 34767, tzinfo=TzInfo(UTC)), modified=datetime.datetime(2025, 2, 13, 22, 12, 11, 126853, tzinfo=TzInfo(UTC)), blob='3480663a-af08-4796-85a1-de341079cfa5', dandiset_id='000945', version_id='0.250213.2212'),\n",
       " RemoteBlobAsset(client=<dandi.dandiapi.DandiAPIClient object at 0x7f7be306a890>, identifier='b353fb55-5a3d-4961-81a2-c121f31c5344', path='sub-BH506/sub-BH506_ses-20231026T155106_ecephys.nwb', size=6579480, created=datetime.datetime(2024, 3, 30, 3, 15, 57, 499969, tzinfo=TzInfo(UTC)), modified=datetime.datetime(2025, 2, 13, 22, 12, 11, 137090, tzinfo=TzInfo(UTC)), blob='c73c778b-9a79-49d2-9fce-7d6c4af58e9a', dandiset_id='000945', version_id='0.250213.2212'),\n",
       " RemoteBlobAsset(client=<dandi.dandiapi.DandiAPIClient object at 0x7f7be306a890>, identifier='a560cda8-54de-42f6-9c7f-f1b5e6dfb53f', path='sub-BH498/sub-BH498_ses-20240306T175805_ecephys.nwb', size=465000, created=datetime.datetime(2024, 3, 30, 3, 15, 57, 615327, tzinfo=TzInfo(UTC)), modified=datetime.datetime(2025, 2, 13, 22, 12, 11, 146486, tzinfo=TzInfo(UTC)), blob='6bfd6d23-c917-49a2-94aa-3a6c797f9865', dandiset_id='000945', version_id='0.250213.2212'),\n",
       " RemoteBlobAsset(client=<dandi.dandiapi.DandiAPIClient object at 0x7f7be306a890>, identifier='655fe6cf-a152-412b-9d20-71c6db670629', path='sub-BH506/sub-BH506_ses-20231018T181609_ecephys.nwb', size=3854672, created=datetime.datetime(2024, 3, 30, 3, 15, 57, 654303, tzinfo=TzInfo(UTC)), modified=datetime.datetime(2025, 2, 13, 22, 12, 11, 154737, tzinfo=TzInfo(UTC)), blob='b95196e9-f980-4aef-9116-f37af48ec83a', dandiset_id='000945', version_id='0.250213.2212'),\n",
       " RemoteBlobAsset(client=<dandi.dandiapi.DandiAPIClient object at 0x7f7be306a890>, identifier='aff9a3be-9745-4787-b62e-f7028a630daa', path='sub-BH498/sub-BH498_ses-20240306T231317_ecephys.nwb', size=3538224, created=datetime.datetime(2024, 3, 30, 3, 15, 58, 59613, tzinfo=TzInfo(UTC)), modified=datetime.datetime(2025, 2, 13, 22, 12, 11, 162837, tzinfo=TzInfo(UTC)), blob='df99ff70-e68a-4ebd-92ef-9e81cf341ffd', dandiset_id='000945', version_id='0.250213.2212'),\n",
       " RemoteBlobAsset(client=<dandi.dandiapi.DandiAPIClient object at 0x7f7be306a890>, identifier='f68ae65b-05e1-4ad2-8897-c3374ea65054', path='sub-BH498/sub-BH498_ses-20240306T184536_ecephys.nwb', size=3340696, created=datetime.datetime(2024, 3, 30, 3, 15, 58, 425145, tzinfo=TzInfo(UTC)), modified=datetime.datetime(2025, 2, 13, 22, 12, 11, 171375, tzinfo=TzInfo(UTC)), blob='4d158ba8-0d2d-4015-ae49-69fea3784407', dandiset_id='000945', version_id='0.250213.2212'),\n",
       " RemoteBlobAsset(client=<dandi.dandiapi.DandiAPIClient object at 0x7f7be306a890>, identifier='1b696783-c3f6-4dc6-9f4f-1f654a3eb9af', path='sub-BH506/sub-BH506_ses-20231026T172706_ecephys.nwb', size=3276200, created=datetime.datetime(2024, 3, 30, 3, 16, 2, 424082, tzinfo=TzInfo(UTC)), modified=datetime.datetime(2025, 2, 13, 22, 12, 11, 180023, tzinfo=TzInfo(UTC)), blob='26752c8d-0541-4bff-89d1-d562b9576b4f', dandiset_id='000945', version_id='0.250213.2212'),\n",
       " RemoteBlobAsset(client=<dandi.dandiapi.DandiAPIClient object at 0x7f7be306a890>, identifier='9cba84c1-1e99-41d1-a0f9-611373c65169', path='sub-BH506/sub-BH506_ses-20240308T150612_ecephys.nwb', size=1924608, created=datetime.datetime(2024, 3, 30, 3, 16, 2, 796249, tzinfo=TzInfo(UTC)), modified=datetime.datetime(2025, 2, 13, 22, 12, 11, 188131, tzinfo=TzInfo(UTC)), blob='b6398a51-9a04-411c-9736-f628b5a51481', dandiset_id='000945', version_id='0.250213.2212'),\n",
       " RemoteBlobAsset(client=<dandi.dandiapi.DandiAPIClient object at 0x7f7be306a890>, identifier='7d7e1597-42be-4f66-bbb1-667e0a499fec', path='sub-BH506/sub-BH506_ses-20240308T203635_ecephys.nwb', size=2921912, created=datetime.datetime(2024, 3, 30, 3, 16, 2, 902100, tzinfo=TzInfo(UTC)), modified=datetime.datetime(2025, 2, 13, 22, 12, 11, 203894, tzinfo=TzInfo(UTC)), blob='2de45a94-d306-48da-a7e4-892461a52227', dandiset_id='000945', version_id='0.250213.2212'),\n",
       " RemoteBlobAsset(client=<dandi.dandiapi.DandiAPIClient object at 0x7f7be306a890>, identifier='c0896324-3a06-448c-9bcd-723c8d41a7d5', path='sub-BH506/sub-BH506_ses-20231026T222022_ecephys.nwb', size=4878960, created=datetime.datetime(2024, 3, 30, 3, 16, 3, 79422, tzinfo=TzInfo(UTC)), modified=datetime.datetime(2025, 2, 13, 22, 12, 11, 212376, tzinfo=TzInfo(UTC)), blob='821fbe33-a56d-408a-b94f-d0cae825d37c', dandiset_id='000945', version_id='0.250213.2212'),\n",
       " RemoteBlobAsset(client=<dandi.dandiapi.DandiAPIClient object at 0x7f7be306a890>, identifier='b6005efb-30f7-41e8-b388-7de5f55de190', path='sub-BH506/sub-BH506_ses-20231026T231103_ecephys.nwb', size=7896968, created=datetime.datetime(2024, 3, 30, 3, 16, 3, 847957, tzinfo=TzInfo(UTC)), modified=datetime.datetime(2025, 2, 13, 22, 12, 11, 222168, tzinfo=TzInfo(UTC)), blob='efcc0c56-d12f-46ba-98ff-b97487f544c2', dandiset_id='000945', version_id='0.250213.2212'),\n",
       " RemoteBlobAsset(client=<dandi.dandiapi.DandiAPIClient object at 0x7f7be306a890>, identifier='669bf379-bcd5-4117-9980-67cf01b0e366', path='sub-BH506/sub-BH506_ses-20240309T162519_ecephys.nwb', size=4886648, created=datetime.datetime(2024, 3, 30, 3, 16, 7, 430088, tzinfo=TzInfo(UTC)), modified=datetime.datetime(2025, 2, 13, 22, 12, 11, 231219, tzinfo=TzInfo(UTC)), blob='eeb8dcf0-8b6a-44de-99bc-e23412f40502', dandiset_id='000945', version_id='0.250213.2212'),\n",
       " RemoteBlobAsset(client=<dandi.dandiapi.DandiAPIClient object at 0x7f7be306a890>, identifier='c1819b29-63e5-4cd3-bb98-c7dd0f2d1e3f', path='sub-BH506/sub-BH506_ses-20240309T154317_ecephys.nwb', size=5609816, created=datetime.datetime(2024, 3, 30, 3, 16, 7, 575594, tzinfo=TzInfo(UTC)), modified=datetime.datetime(2025, 2, 13, 22, 12, 11, 239291, tzinfo=TzInfo(UTC)), blob='f6e48730-5550-4702-b178-905abeb4b145', dandiset_id='000945', version_id='0.250213.2212'),\n",
       " RemoteBlobAsset(client=<dandi.dandiapi.DandiAPIClient object at 0x7f7be306a890>, identifier='eb9440af-65c8-4221-916c-aaa1cd7bb73d', path='sub-BH508/sub-BH508_ses-20230827T172257_ecephys.nwb', size=13350256, created=datetime.datetime(2024, 3, 30, 3, 16, 8, 257749, tzinfo=TzInfo(UTC)), modified=datetime.datetime(2025, 2, 13, 22, 12, 11, 248138, tzinfo=TzInfo(UTC)), blob='dcc651ff-d334-4816-bb3a-c7c07a7286e1', dandiset_id='000945', version_id='0.250213.2212'),\n",
       " RemoteBlobAsset(client=<dandi.dandiapi.DandiAPIClient object at 0x7f7be306a890>, identifier='c40f3ac4-91f7-4ce1-af9e-bc9419215a45', path='sub-BH508/sub-BH508_ses-20230827T140843_ecephys.nwb', size=18278272, created=datetime.datetime(2024, 3, 30, 3, 16, 8, 670302, tzinfo=TzInfo(UTC)), modified=datetime.datetime(2025, 2, 13, 22, 12, 11, 257916, tzinfo=TzInfo(UTC)), blob='6dd0ae71-00f0-478a-8501-d45f3d3189e0', dandiset_id='000945', version_id='0.250213.2212'),\n",
       " RemoteBlobAsset(client=<dandi.dandiapi.DandiAPIClient object at 0x7f7be306a890>, identifier='50dd5d7b-c5e1-45fe-bf0b-2e4c906a4d90', path='sub-BH508/sub-BH508_ses-20230818T232609_ecephys.nwb', size=15341112, created=datetime.datetime(2024, 3, 30, 3, 16, 9, 320859, tzinfo=TzInfo(UTC)), modified=datetime.datetime(2025, 2, 13, 22, 12, 11, 266234, tzinfo=TzInfo(UTC)), blob='c74fa18c-1735-43aa-ad15-d2ec922b8238', dandiset_id='000945', version_id='0.250213.2212'),\n",
       " RemoteBlobAsset(client=<dandi.dandiapi.DandiAPIClient object at 0x7f7be306a890>, identifier='06abe1e7-6a2e-40ba-8996-1633134e43fc', path='sub-BH508/sub-BH508_ses-20240307T131948_ecephys.nwb', size=1072840, created=datetime.datetime(2024, 3, 30, 3, 16, 12, 718477, tzinfo=TzInfo(UTC)), modified=datetime.datetime(2025, 2, 13, 22, 12, 11, 274889, tzinfo=TzInfo(UTC)), blob='a0781d76-8ff8-4709-a619-fda9e67687c2', dandiset_id='000945', version_id='0.250213.2212'),\n",
       " RemoteBlobAsset(client=<dandi.dandiapi.DandiAPIClient object at 0x7f7be306a890>, identifier='e886fc26-211b-428f-81dc-6a55eca620fd', path='sub-BH508/sub-BH508_ses-20231022T185210_ecephys.nwb', size=766112, created=datetime.datetime(2024, 3, 30, 3, 16, 12, 778379, tzinfo=TzInfo(UTC)), modified=datetime.datetime(2025, 2, 13, 22, 12, 11, 290784, tzinfo=TzInfo(UTC)), blob='df95db93-4006-44f3-97c0-ddaff3ba7063', dandiset_id='000945', version_id='0.250213.2212'),\n",
       " RemoteBlobAsset(client=<dandi.dandiapi.DandiAPIClient object at 0x7f7be306a890>, identifier='692749a1-95ee-485e-b129-7f34aa767c41', path='sub-BH508/sub-BH508_ses-20230827T235425_ecephys.nwb', size=17420952, created=datetime.datetime(2024, 3, 30, 3, 16, 12, 834011, tzinfo=TzInfo(UTC)), modified=datetime.datetime(2025, 2, 13, 22, 12, 11, 300370, tzinfo=TzInfo(UTC)), blob='cdf54250-83f8-4dd1-9f60-f021c9c712a5', dandiset_id='000945', version_id='0.250213.2212'),\n",
       " RemoteBlobAsset(client=<dandi.dandiapi.DandiAPIClient object at 0x7f7be306a890>, identifier='522ddc28-bd4a-472e-b895-3a3e493fff9c', path='sub-BH508/sub-BH508_ses-20240307T002354_ecephys.nwb', size=438432, created=datetime.datetime(2024, 3, 30, 3, 16, 12, 980880, tzinfo=TzInfo(UTC)), modified=datetime.datetime(2025, 2, 13, 22, 12, 11, 309586, tzinfo=TzInfo(UTC)), blob='d5dbe6f1-3aad-4b5e-b55d-d78acdc6203a', dandiset_id='000945', version_id='0.250213.2212'),\n",
       " RemoteBlobAsset(client=<dandi.dandiapi.DandiAPIClient object at 0x7f7be306a890>, identifier='e1b4c3f6-ce3a-41c6-85dd-2325afdcac9e', path='sub-BH508/sub-BH508_ses-20231012T200751_ecephys.nwb', size=10842112, created=datetime.datetime(2024, 3, 30, 3, 16, 13, 140878, tzinfo=TzInfo(UTC)), modified=datetime.datetime(2025, 2, 13, 22, 12, 11, 318373, tzinfo=TzInfo(UTC)), blob='d4475ac0-44f4-43a9-94f5-553e19e41b68', dandiset_id='000945', version_id='0.250213.2212'),\n",
       " RemoteBlobAsset(client=<dandi.dandiapi.DandiAPIClient object at 0x7f7be306a890>, identifier='4c884941-d559-4e13-ac3f-d9df38104c1f', path='sub-BH508/sub-BH508_ses-20240307T161026_ecephys.nwb', size=570136, created=datetime.datetime(2024, 3, 30, 3, 16, 17, 579701, tzinfo=TzInfo(UTC)), modified=datetime.datetime(2025, 2, 13, 22, 12, 11, 326087, tzinfo=TzInfo(UTC)), blob='9d6067c4-7978-455c-b6b2-a3d47de44923', dandiset_id='000945', version_id='0.250213.2212'),\n",
       " RemoteBlobAsset(client=<dandi.dandiapi.DandiAPIClient object at 0x7f7be306a890>, identifier='8af86ff6-3f20-4bc1-b7be-e1bafd1fb6be', path='sub-BH512/sub-BH512_ses-20231013T125904_ecephys.nwb', size=6092624, created=datetime.datetime(2024, 3, 30, 3, 16, 17, 735119, tzinfo=TzInfo(UTC)), modified=datetime.datetime(2025, 2, 13, 22, 12, 11, 334106, tzinfo=TzInfo(UTC)), blob='ed0c610c-913f-4978-9eb1-afa28f1c07f4', dandiset_id='000945', version_id='0.250213.2212'),\n",
       " RemoteBlobAsset(client=<dandi.dandiapi.DandiAPIClient object at 0x7f7be306a890>, identifier='70da70e5-0578-428b-a843-8ecacf8cf8b6', path='sub-BH508/sub-BH508_ses-20240307T151910_ecephys.nwb', size=3039992, created=datetime.datetime(2024, 3, 30, 3, 16, 17, 785190, tzinfo=TzInfo(UTC)), modified=datetime.datetime(2025, 2, 13, 22, 12, 11, 342779, tzinfo=TzInfo(UTC)), blob='508a2a4f-c41d-454c-81b9-053909a3e16a', dandiset_id='000945', version_id='0.250213.2212'),\n",
       " RemoteBlobAsset(client=<dandi.dandiapi.DandiAPIClient object at 0x7f7be306a890>, identifier='999f6fb0-66ad-4f8a-9cc5-ead2e907b72d', path='sub-BH512/sub-BH512_ses-20231017T111224_ecephys.nwb', size=5362120, created=datetime.datetime(2024, 3, 30, 3, 16, 17, 814346, tzinfo=TzInfo(UTC)), modified=datetime.datetime(2025, 2, 13, 22, 12, 11, 352096, tzinfo=TzInfo(UTC)), blob='8213e5bd-63e0-4077-8267-c40e1e8e595f', dandiset_id='000945', version_id='0.250213.2212'),\n",
       " RemoteBlobAsset(client=<dandi.dandiapi.DandiAPIClient object at 0x7f7be306a890>, identifier='4b063072-3f50-43f1-9ffe-686a44caeee1', path='sub-BH512/sub-BH512_ses-20231013T144925_ecephys.nwb', size=7320600, created=datetime.datetime(2024, 3, 30, 3, 16, 18, 421846, tzinfo=TzInfo(UTC)), modified=datetime.datetime(2025, 2, 13, 22, 12, 11, 361754, tzinfo=TzInfo(UTC)), blob='5f5d7907-700f-4bac-a299-c341d1d85daa', dandiset_id='000945', version_id='0.250213.2212'),\n",
       " RemoteBlobAsset(client=<dandi.dandiapi.DandiAPIClient object at 0x7f7be306a890>, identifier='d235efa3-7c13-4c29-9778-01d083039b38', path='sub-BH512/sub-BH512_ses-20231017T133912_ecephys.nwb', size=4814376, created=datetime.datetime(2024, 3, 30, 3, 16, 22, 545977, tzinfo=TzInfo(UTC)), modified=datetime.datetime(2025, 2, 13, 22, 12, 11, 372079, tzinfo=TzInfo(UTC)), blob='58c7a8f7-fe39-49b3-b67b-86d7d656fe7b', dandiset_id='000945', version_id='0.250213.2212'),\n",
       " RemoteBlobAsset(client=<dandi.dandiapi.DandiAPIClient object at 0x7f7be306a890>, identifier='945fce83-b801-45d4-8525-e08403964e1e', path='sub-BH519/sub-BH519_ses-20231013T121604_ecephys.nwb', size=4317232, created=datetime.datetime(2024, 3, 30, 3, 16, 22, 778908, tzinfo=TzInfo(UTC)), modified=datetime.datetime(2025, 2, 13, 22, 12, 11, 389774, tzinfo=TzInfo(UTC)), blob='7f28bcc7-1a6a-4a39-b63c-81b2d1a5cd2e', dandiset_id='000945', version_id='0.250213.2212'),\n",
       " RemoteBlobAsset(client=<dandi.dandiapi.DandiAPIClient object at 0x7f7be306a890>, identifier='2c6227e3-cabd-40b4-983e-be196c910999', path='sub-BH519/sub-BH519_ses-20231022T163921_ecephys.nwb', size=3451192, created=datetime.datetime(2024, 3, 30, 3, 16, 22, 920220, tzinfo=TzInfo(UTC)), modified=datetime.datetime(2025, 2, 13, 22, 12, 11, 400103, tzinfo=TzInfo(UTC)), blob='9ec1864c-708e-4e20-ab54-93fb34db0d9e', dandiset_id='000945', version_id='0.250213.2212'),\n",
       " RemoteBlobAsset(client=<dandi.dandiapi.DandiAPIClient object at 0x7f7be306a890>, identifier='bd6006f4-97b1-4e16-b4bd-fe7de9481d36', path='sub-BH519/sub-BH519_ses-20231018T184827_ecephys.nwb', size=6033232, created=datetime.datetime(2024, 3, 30, 3, 16, 23, 249579, tzinfo=TzInfo(UTC)), modified=datetime.datetime(2025, 2, 13, 22, 12, 11, 409679, tzinfo=TzInfo(UTC)), blob='5b5e4ba1-17c3-41ad-b3a9-aac0292d0234', dandiset_id='000945', version_id='0.250213.2212'),\n",
       " RemoteBlobAsset(client=<dandi.dandiapi.DandiAPIClient object at 0x7f7be306a890>, identifier='5a533226-d60d-499f-b6be-64c3fc20b6f2', path='sub-BH512/sub-BH512_ses-20231017T150024_ecephys.nwb', size=5178448, created=datetime.datetime(2024, 3, 30, 3, 16, 23, 528116, tzinfo=TzInfo(UTC)), modified=datetime.datetime(2025, 2, 13, 22, 12, 11, 419772, tzinfo=TzInfo(UTC)), blob='8d2feb2b-df47-4524-b679-202ff7bbaaa3', dandiset_id='000945', version_id='0.250213.2212'),\n",
       " RemoteBlobAsset(client=<dandi.dandiapi.DandiAPIClient object at 0x7f7be306a890>, identifier='e2e99305-ae09-40be-9602-fd498de6245f', path='sub-BH519/sub-BH519_ses-20231026T144609_ecephys.nwb', size=5424440, created=datetime.datetime(2024, 3, 30, 3, 16, 27, 622535, tzinfo=TzInfo(UTC)), modified=datetime.datetime(2025, 2, 13, 22, 12, 11, 438757, tzinfo=TzInfo(UTC)), blob='c0e1985d-bb4d-457d-a085-cf6dfe3ad34e', dandiset_id='000945', version_id='0.250213.2212'),\n",
       " RemoteBlobAsset(client=<dandi.dandiapi.DandiAPIClient object at 0x7f7be306a890>, identifier='bb9171b9-764c-45cc-b0a9-4805becdad74', path='sub-BH519/sub-BH519_ses-20231026T152635_ecephys.nwb', size=4026776, created=datetime.datetime(2024, 3, 30, 3, 16, 27, 761354, tzinfo=TzInfo(UTC)), modified=datetime.datetime(2025, 2, 13, 22, 12, 11, 448057, tzinfo=TzInfo(UTC)), blob='af242e37-b7a6-4f7b-b6c0-314a9467181a', dandiset_id='000945', version_id='0.250213.2212'),\n",
       " RemoteBlobAsset(client=<dandi.dandiapi.DandiAPIClient object at 0x7f7be306a890>, identifier='0d31f839-8416-48ea-9227-95283a8ff06f', path='sub-BH521/sub-BH521_ses-20240309T145624_ecephys.nwb', size=5798800, created=datetime.datetime(2024, 3, 30, 3, 16, 28, 132370, tzinfo=TzInfo(UTC)), modified=datetime.datetime(2025, 2, 13, 22, 12, 11, 457230, tzinfo=TzInfo(UTC)), blob='d41eea4b-ad0f-4675-b5f7-1caf6ceb1d0e', dandiset_id='000945', version_id='0.250213.2212'),\n",
       " RemoteBlobAsset(client=<dandi.dandiapi.DandiAPIClient object at 0x7f7be306a890>, identifier='ecb33d4b-e607-4b18-9841-a2fe6974bd5b', path='sub-BH521/sub-BH521_ses-20240309T142951_ecephys.nwb', size=5550592, created=datetime.datetime(2024, 3, 30, 3, 16, 28, 280866, tzinfo=TzInfo(UTC)), modified=datetime.datetime(2025, 2, 13, 22, 12, 11, 467271, tzinfo=TzInfo(UTC)), blob='cb879b47-0235-43ad-8f32-18500eb66987', dandiset_id='000945', version_id='0.250213.2212'),\n",
       " RemoteBlobAsset(client=<dandi.dandiapi.DandiAPIClient object at 0x7f7be306a890>, identifier='b88188c8-4e4c-494c-8dab-806b1efd55eb', path='sub-BH526/sub-BH526_ses-20231029T172456_ecephys.nwb', size=5956176, created=datetime.datetime(2024, 3, 30, 3, 16, 28, 771040, tzinfo=TzInfo(UTC)), modified=datetime.datetime(2025, 2, 13, 22, 12, 11, 478002, tzinfo=TzInfo(UTC)), blob='5a5c9743-7e20-4013-93ed-82dd7829aaa2', dandiset_id='000945', version_id='0.250213.2212'),\n",
       " RemoteBlobAsset(client=<dandi.dandiapi.DandiAPIClient object at 0x7f7be306a890>, identifier='76cc5fdf-5d03-4d17-b30d-4dbb479bfe27', path='sub-BH526/sub-BH526_ses-20231029T184425_ecephys.nwb', size=1822048, created=datetime.datetime(2024, 3, 30, 3, 16, 32, 330331, tzinfo=TzInfo(UTC)), modified=datetime.datetime(2025, 2, 13, 22, 12, 11, 487490, tzinfo=TzInfo(UTC)), blob='171292b5-c2ee-4a9c-a1a2-ef02c2e6f145', dandiset_id='000945', version_id='0.250213.2212'),\n",
       " RemoteBlobAsset(client=<dandi.dandiapi.DandiAPIClient object at 0x7f7be306a890>, identifier='e6b5ab74-63e7-4205-87cb-24e545e4931d', path='sub-BH526/sub-BH526_ses-20231029T191050_ecephys.nwb', size=5739784, created=datetime.datetime(2024, 3, 30, 3, 16, 33, 189849, tzinfo=TzInfo(UTC)), modified=datetime.datetime(2025, 2, 13, 22, 12, 11, 497470, tzinfo=TzInfo(UTC)), blob='6855926d-22bb-43aa-a6ef-c8785f2815f4', dandiset_id='000945', version_id='0.250213.2212'),\n",
       " RemoteBlobAsset(client=<dandi.dandiapi.DandiAPIClient object at 0x7f7be306a890>, identifier='b37e37a6-d698-428f-94a5-e9a64f89867b', path='sub-BH526/sub-BH526_ses-20231029T192529_ecephys.nwb', size=5976288, created=datetime.datetime(2024, 3, 30, 3, 16, 33, 695260, tzinfo=TzInfo(UTC)), modified=datetime.datetime(2025, 2, 13, 22, 12, 11, 507224, tzinfo=TzInfo(UTC)), blob='7caae18e-38f6-45bd-8c90-cb56a49443df', dandiset_id='000945', version_id='0.250213.2212'),\n",
       " RemoteBlobAsset(client=<dandi.dandiapi.DandiAPIClient object at 0x7f7be306a890>, identifier='1297ab34-21c1-4784-9162-558a47bebdb4', path='sub-BH526/sub-BH526_ses-20240130T184318_ecephys.nwb', size=1318944, created=datetime.datetime(2024, 3, 30, 3, 16, 33, 884809, tzinfo=TzInfo(UTC)), modified=datetime.datetime(2025, 2, 13, 22, 12, 11, 516195, tzinfo=TzInfo(UTC)), blob='8d28127f-8791-4666-adf3-1076b37909b1', dandiset_id='000945', version_id='0.250213.2212'),\n",
       " RemoteBlobAsset(client=<dandi.dandiapi.DandiAPIClient object at 0x7f7be306a890>, identifier='ce7bcbee-3dfa-4672-b8a2-b60aff02e32e', path='sub-BH526/sub-BH526_ses-20231029T182226_ecephys.nwb', size=41549160, created=datetime.datetime(2024, 3, 30, 3, 16, 33, 942471, tzinfo=TzInfo(UTC)), modified=datetime.datetime(2025, 2, 13, 22, 12, 11, 526446, tzinfo=TzInfo(UTC)), blob='c7cc1686-5f7c-4c37-bb26-432ae018ecc7', dandiset_id='000945', version_id='0.250213.2212'),\n",
       " RemoteBlobAsset(client=<dandi.dandiapi.DandiAPIClient object at 0x7f7be306a890>, identifier='b3b118cf-b08f-40f0-b366-2a95bcadf247', path='sub-BH526/sub-BH526_ses-20240130T195206_ecephys.nwb', size=907864, created=datetime.datetime(2024, 3, 30, 3, 16, 37, 141684, tzinfo=TzInfo(UTC)), modified=datetime.datetime(2025, 2, 13, 22, 12, 11, 537391, tzinfo=TzInfo(UTC)), blob='4d7834ad-6af2-429b-8732-69d31bd16feb', dandiset_id='000945', version_id='0.250213.2212'),\n",
       " RemoteBlobAsset(client=<dandi.dandiapi.DandiAPIClient object at 0x7f7be306a890>, identifier='5d67d62a-39a5-4ff0-ac67-aef6e0465df1', path='sub-BH527/sub-BH527_ses-20231029T233334_ecephys.nwb', size=4979040, created=datetime.datetime(2024, 3, 30, 3, 16, 37, 969465, tzinfo=TzInfo(UTC)), modified=datetime.datetime(2025, 2, 13, 22, 12, 11, 550668, tzinfo=TzInfo(UTC)), blob='6166dfac-3480-450d-b2f9-41657772ae69', dandiset_id='000945', version_id='0.250213.2212'),\n",
       " RemoteBlobAsset(client=<dandi.dandiapi.DandiAPIClient object at 0x7f7be306a890>, identifier='99582d6c-2e37-4c41-955d-1789ce36c263', path='sub-BH527/sub-BH527_ses-20231030T000325_ecephys.nwb', size=6538936, created=datetime.datetime(2024, 3, 30, 3, 16, 38, 134233, tzinfo=TzInfo(UTC)), modified=datetime.datetime(2025, 2, 13, 22, 12, 11, 561417, tzinfo=TzInfo(UTC)), blob='fe8fdf3a-c62d-43d1-b27b-4249ca4a54d3', dandiset_id='000945', version_id='0.250213.2212'),\n",
       " RemoteBlobAsset(client=<dandi.dandiapi.DandiAPIClient object at 0x7f7be306a890>, identifier='fee80cec-280a-4260-98a1-0bc64277fd38', path='sub-BH527/sub-BH527_ses-20240304T222814_ecephys.nwb', size=1256416, created=datetime.datetime(2024, 3, 30, 3, 16, 38, 416355, tzinfo=TzInfo(UTC)), modified=datetime.datetime(2025, 2, 13, 22, 12, 11, 571112, tzinfo=TzInfo(UTC)), blob='dc752c51-0e3f-49b1-a91d-482dc01e39c5', dandiset_id='000945', version_id='0.250213.2212'),\n",
       " RemoteBlobAsset(client=<dandi.dandiapi.DandiAPIClient object at 0x7f7be306a890>, identifier='8ea0f71c-6d68-4aea-ae58-38cc3de1d68f', path='sub-BH527/sub-BH527_ses-20231201T162833_ecephys.nwb', size=15181248, created=datetime.datetime(2024, 3, 30, 3, 16, 38, 941932, tzinfo=TzInfo(UTC)), modified=datetime.datetime(2025, 2, 13, 22, 12, 11, 579871, tzinfo=TzInfo(UTC)), blob='d88470aa-cc4a-4b1a-8c65-300142e5dace', dandiset_id='000945', version_id='0.250213.2212'),\n",
       " RemoteBlobAsset(client=<dandi.dandiapi.DandiAPIClient object at 0x7f7be306a890>, identifier='c0a4b926-bb13-467d-8231-1d640794f9e0', path='sub-BH527/sub-BH527_ses-20240305T165812_ecephys.nwb', size=1529288, created=datetime.datetime(2024, 3, 30, 3, 16, 39, 422320, tzinfo=TzInfo(UTC)), modified=datetime.datetime(2025, 2, 13, 22, 12, 11, 593674, tzinfo=TzInfo(UTC)), blob='eb817d9d-67f9-41b1-acf9-6ea6ed74dcf3', dandiset_id='000945', version_id='0.250213.2212'),\n",
       " RemoteBlobAsset(client=<dandi.dandiapi.DandiAPIClient object at 0x7f7be306a890>, identifier='f88a9bec-23d6-4444-8b97-8083e45057c9', path='sub-BH497/sub-BH497_ses-20240310T145814_ecephys.nwb', size=11900768, created=datetime.datetime(2024, 3, 30, 3, 31, 59, 294588, tzinfo=TzInfo(UTC)), modified=datetime.datetime(2025, 2, 13, 22, 12, 11, 606969, tzinfo=TzInfo(UTC)), blob='adc40bda-4950-4adc-95b0-44071586b1ce', dandiset_id='000945', version_id='0.250213.2212'),\n",
       " RemoteBlobAsset(client=<dandi.dandiapi.DandiAPIClient object at 0x7f7be306a890>, identifier='526c681d-0c50-44e1-92be-9c0134c71fd8', path='sub-BH497/sub-BH497_ses-20240310T145053_ecephys.nwb', size=9352600, created=datetime.datetime(2024, 3, 30, 3, 31, 59, 515204, tzinfo=TzInfo(UTC)), modified=datetime.datetime(2025, 2, 13, 22, 12, 11, 623820, tzinfo=TzInfo(UTC)), blob='f6896d68-647b-47c5-bed6-ab4e97a20e79', dandiset_id='000945', version_id='0.250213.2212'),\n",
       " RemoteBlobAsset(client=<dandi.dandiapi.DandiAPIClient object at 0x7f7be306a890>, identifier='a4e04662-e4cb-49f3-9076-41e04e833a11', path='sub-BH497/sub-BH497_ses-20240310T143729_ecephys.nwb', size=9797128, created=datetime.datetime(2024, 3, 30, 3, 31, 59, 651406, tzinfo=TzInfo(UTC)), modified=datetime.datetime(2025, 2, 13, 22, 12, 11, 640015, tzinfo=TzInfo(UTC)), blob='54a5474d-eac5-45e1-a378-4c9cc18d6b82', dandiset_id='000945', version_id='0.250213.2212'),\n",
       " RemoteBlobAsset(client=<dandi.dandiapi.DandiAPIClient object at 0x7f7be306a890>, identifier='02151b40-5064-4ba1-a5b7-d0473ff09262', path='sub-BH497/sub-BH497_ses-20240310T152652_ecephys.nwb', size=11445120, created=datetime.datetime(2024, 3, 30, 3, 32, 0, 96322, tzinfo=TzInfo(UTC)), modified=datetime.datetime(2025, 2, 13, 22, 12, 11, 649519, tzinfo=TzInfo(UTC)), blob='21edda0e-9e27-400c-80e5-83c82225f334', dandiset_id='000945', version_id='0.250213.2212'),\n",
       " RemoteBlobAsset(client=<dandi.dandiapi.DandiAPIClient object at 0x7f7be306a890>, identifier='a7549e3f-9b14-432a-be65-adb5f6811343', path='sub-BH497/sub-BH497_ses-20240310T150748_ecephys.nwb', size=12848752, created=datetime.datetime(2024, 3, 30, 3, 32, 0, 779568, tzinfo=TzInfo(UTC)), modified=datetime.datetime(2025, 2, 13, 22, 12, 11, 659400, tzinfo=TzInfo(UTC)), blob='9a284440-6d9f-4c58-8de2-0dc94b753019', dandiset_id='000945', version_id='0.250213.2212'),\n",
       " RemoteBlobAsset(client=<dandi.dandiapi.DandiAPIClient object at 0x7f7be306a890>, identifier='4d6ebf1a-b643-4bc6-9bde-c66a4fd690a3', path='sub-BH514/sub-BH514_ses-20240309T185729_ecephys.nwb', size=7425776, created=datetime.datetime(2024, 3, 30, 3, 32, 14, 234133, tzinfo=TzInfo(UTC)), modified=datetime.datetime(2025, 2, 13, 22, 12, 11, 672027, tzinfo=TzInfo(UTC)), blob='86239d13-2051-477e-82c5-19774a0ff83e', dandiset_id='000945', version_id='0.250213.2212'),\n",
       " RemoteBlobAsset(client=<dandi.dandiapi.DandiAPIClient object at 0x7f7be306a890>, identifier='471fa021-9ce9-4102-9340-f7c0bf980f21', path='sub-BH514/sub-BH514_ses-20240309T184852_ecephys.nwb', size=8195784, created=datetime.datetime(2024, 3, 30, 3, 32, 14, 240447, tzinfo=TzInfo(UTC)), modified=datetime.datetime(2025, 2, 13, 22, 12, 11, 680464, tzinfo=TzInfo(UTC)), blob='06c6ccac-13ef-4062-a36c-6629fc3ba100', dandiset_id='000945', version_id='0.250213.2212'),\n",
       " RemoteBlobAsset(client=<dandi.dandiapi.DandiAPIClient object at 0x7f7be306a890>, identifier='1c3d6a9a-56f2-4bbd-94c9-e58ca6af3c0e', path='sub-BH514/sub-BH514_ses-20240309T183856_ecephys.nwb', size=9158000, created=datetime.datetime(2024, 3, 30, 3, 32, 14, 874462, tzinfo=TzInfo(UTC)), modified=datetime.datetime(2025, 2, 13, 22, 12, 11, 688522, tzinfo=TzInfo(UTC)), blob='a280c4a3-bc21-494e-94ee-204f982c6a51', dandiset_id='000945', version_id='0.250213.2212'),\n",
       " RemoteBlobAsset(client=<dandi.dandiapi.DandiAPIClient object at 0x7f7be306a890>, identifier='2a6decf0-3c95-4f8a-b0de-86da8f871d02', path='sub-BH514/sub-BH514_ses-20240309T183140_ecephys.nwb', size=7604648, created=datetime.datetime(2024, 3, 30, 3, 32, 15, 429365, tzinfo=TzInfo(UTC)), modified=datetime.datetime(2025, 2, 13, 22, 12, 11, 699124, tzinfo=TzInfo(UTC)), blob='e64a2c64-98fc-49e4-adf9-3a33a556b585', dandiset_id='000945', version_id='0.250213.2212'),\n",
       " RemoteBlobAsset(client=<dandi.dandiapi.DandiAPIClient object at 0x7f7be306a890>, identifier='42b45ddf-050f-4ae7-a34e-d5b9d8d991fe', path='sub-BH498/sub-BH498_ses-20240310T143729_ecephys.nwb', size=9796912, created=datetime.datetime(2024, 9, 30, 18, 48, 43, 269361, tzinfo=TzInfo(UTC)), modified=datetime.datetime(2025, 2, 13, 22, 12, 11, 711541, tzinfo=TzInfo(UTC)), blob='9e1b252f-68e8-4c0c-aaa3-d09d81778496', dandiset_id='000945', version_id='0.250213.2212'),\n",
       " RemoteBlobAsset(client=<dandi.dandiapi.DandiAPIClient object at 0x7f7be306a890>, identifier='0bce1d5d-8635-470e-b497-f0b350cbf058', path='sub-BH498/sub-BH498_ses-20240310T145053_ecephys.nwb', size=9352384, created=datetime.datetime(2024, 9, 30, 18, 48, 46, 134311, tzinfo=TzInfo(UTC)), modified=datetime.datetime(2025, 2, 13, 22, 12, 11, 720908, tzinfo=TzInfo(UTC)), blob='d858eca4-ff51-4c4b-930f-954f475a6214', dandiset_id='000945', version_id='0.250213.2212'),\n",
       " RemoteBlobAsset(client=<dandi.dandiapi.DandiAPIClient object at 0x7f7be306a890>, identifier='f880f498-f5c7-4c99-9d64-5cb4a4973833', path='sub-BH498/sub-BH498_ses-20240310T152652_ecephys.nwb', size=11444904, created=datetime.datetime(2024, 9, 30, 18, 48, 48, 80624, tzinfo=TzInfo(UTC)), modified=datetime.datetime(2025, 2, 13, 22, 12, 11, 733086, tzinfo=TzInfo(UTC)), blob='b59901da-a0dd-41b3-99a8-d951785d1e42', dandiset_id='000945', version_id='0.250213.2212'),\n",
       " RemoteBlobAsset(client=<dandi.dandiapi.DandiAPIClient object at 0x7f7be306a890>, identifier='6c7c91a9-d339-4c73-b0a0-5df2d050f324', path='sub-BH498/sub-BH498_ses-20240310T150748_ecephys.nwb', size=12848536, created=datetime.datetime(2024, 9, 30, 18, 48, 48, 885275, tzinfo=TzInfo(UTC)), modified=datetime.datetime(2025, 2, 13, 22, 12, 11, 742114, tzinfo=TzInfo(UTC)), blob='cfb964f2-ec0f-4e97-876d-4536bf41415f', dandiset_id='000945', version_id='0.250213.2212'),\n",
       " RemoteBlobAsset(client=<dandi.dandiapi.DandiAPIClient object at 0x7f7be306a890>, identifier='e35653b4-0a0b-41bf-bf71-0c37e0d96509', path='sub-BH498/sub-BH498_ses-20240310T145814_ecephys.nwb', size=11900552, created=datetime.datetime(2024, 9, 30, 18, 48, 49, 584262, tzinfo=TzInfo(UTC)), modified=datetime.datetime(2025, 2, 13, 22, 12, 11, 757650, tzinfo=TzInfo(UTC)), blob='b8b69245-765e-47ac-b120-bf7ef6ddcf6f', dandiset_id='000945', version_id='0.250213.2212'),\n",
       " RemoteBlobAsset(client=<dandi.dandiapi.DandiAPIClient object at 0x7f7be306a890>, identifier='0a505445-f3bb-4636-a41e-f884e13fedb2', path='sub-BH512/sub-BH512_ses-20240309T174222_ecephys.nwb', size=7641824, created=datetime.datetime(2024, 9, 30, 18, 49, 34, 201693, tzinfo=TzInfo(UTC)), modified=datetime.datetime(2025, 2, 13, 22, 12, 11, 767460, tzinfo=TzInfo(UTC)), blob='6050ab48-8f95-4216-89ea-86920a3c6f34', dandiset_id='000945', version_id='0.250213.2212'),\n",
       " RemoteBlobAsset(client=<dandi.dandiapi.DandiAPIClient object at 0x7f7be306a890>, identifier='02646aea-7335-48f0-b8e2-e99fb50ecb9d', path='sub-BH512/sub-BH512_ses-20240309T173451_ecephys.nwb', size=8254600, created=datetime.datetime(2024, 9, 30, 18, 49, 34, 389249, tzinfo=TzInfo(UTC)), modified=datetime.datetime(2025, 2, 13, 22, 12, 11, 781181, tzinfo=TzInfo(UTC)), blob='9d868b23-2c19-4a03-ba7a-f67692685a3f', dandiset_id='000945', version_id='0.250213.2212'),\n",
       " RemoteBlobAsset(client=<dandi.dandiapi.DandiAPIClient object at 0x7f7be306a890>, identifier='58aaf1ad-3db5-4741-bf4f-6781fb02349c', path='sub-BH512/sub-BH512_ses-20240309T183140_ecephys.nwb', size=7604432, created=datetime.datetime(2024, 9, 30, 18, 49, 37, 623737, tzinfo=TzInfo(UTC)), modified=datetime.datetime(2025, 2, 13, 22, 12, 11, 790172, tzinfo=TzInfo(UTC)), blob='07471be7-4a53-46f3-8e60-b09e52b0737a', dandiset_id='000945', version_id='0.250213.2212'),\n",
       " RemoteBlobAsset(client=<dandi.dandiapi.DandiAPIClient object at 0x7f7be306a890>, identifier='6fadfa7e-3d2d-4bb2-bb34-58559e2e1638', path='sub-BH512/sub-BH512_ses-20240309T184852_ecephys.nwb', size=8195568, created=datetime.datetime(2024, 9, 30, 18, 49, 37, 989281, tzinfo=TzInfo(UTC)), modified=datetime.datetime(2025, 2, 13, 22, 12, 11, 802078, tzinfo=TzInfo(UTC)), blob='781c52c6-7339-447a-8b1f-dc6d15a13e10', dandiset_id='000945', version_id='0.250213.2212'),\n",
       " RemoteBlobAsset(client=<dandi.dandiapi.DandiAPIClient object at 0x7f7be306a890>, identifier='7f496bcf-f8a1-446f-9779-d13345440a0c', path='sub-BH512/sub-BH512_ses-20240309T183856_ecephys.nwb', size=9157784, created=datetime.datetime(2024, 9, 30, 18, 49, 38, 862789, tzinfo=TzInfo(UTC)), modified=datetime.datetime(2025, 2, 13, 22, 12, 11, 811503, tzinfo=TzInfo(UTC)), blob='66ee6b15-b82c-4dd4-8d6c-2c4a6c236384', dandiset_id='000945', version_id='0.250213.2212'),\n",
       " RemoteBlobAsset(client=<dandi.dandiapi.DandiAPIClient object at 0x7f7be306a890>, identifier='35c47d37-8339-4a46-a0f0-0f455a8ff927', path='sub-BH512/sub-BH512_ses-20240309T185729_ecephys.nwb', size=7425560, created=datetime.datetime(2024, 9, 30, 18, 49, 39, 756716, tzinfo=TzInfo(UTC)), modified=datetime.datetime(2025, 2, 13, 22, 12, 11, 820154, tzinfo=TzInfo(UTC)), blob='b6dee09b-dbe7-4e27-b142-5df313d9ae66', dandiset_id='000945', version_id='0.250213.2212'),\n",
       " RemoteBlobAsset(client=<dandi.dandiapi.DandiAPIClient object at 0x7f7be306a890>, identifier='895b59ba-536e-44d4-ad06-d777f3aec504', path='sub-BH512/sub-BH512_ses-20240503T224059_ecephys.nwb', size=7433800, created=datetime.datetime(2024, 9, 30, 18, 49, 40, 925545, tzinfo=TzInfo(UTC)), modified=datetime.datetime(2025, 2, 13, 22, 12, 11, 828648, tzinfo=TzInfo(UTC)), blob='218e873b-ef64-4d00-a273-4756f18d9270', dandiset_id='000945', version_id='0.250213.2212'),\n",
       " RemoteBlobAsset(client=<dandi.dandiapi.DandiAPIClient object at 0x7f7be306a890>, identifier='f77781a6-c17c-4be9-942d-2cab9bc33fef', path='sub-BH521/sub-BH521_ses-20240206T145744_ecephys.nwb', size=5058616, created=datetime.datetime(2024, 9, 30, 18, 49, 59, 608251, tzinfo=TzInfo(UTC)), modified=datetime.datetime(2025, 2, 13, 22, 12, 11, 837259, tzinfo=TzInfo(UTC)), blob='e28df490-494d-4a06-b6e3-7689012149fc', dandiset_id='000945', version_id='0.250213.2212'),\n",
       " RemoteBlobAsset(client=<dandi.dandiapi.DandiAPIClient object at 0x7f7be306a890>, identifier='334de51f-22fe-49ae-af5d-c9941f8dafbc', path='sub-BH521/sub-BH521_ses-20240206T222855_ecephys.nwb', size=6508144, created=datetime.datetime(2024, 9, 30, 18, 50, 3, 643995, tzinfo=TzInfo(UTC)), modified=datetime.datetime(2025, 2, 13, 22, 12, 11, 846020, tzinfo=TzInfo(UTC)), blob='2c207cbd-f04a-4e9c-a5d7-8945e233a087', dandiset_id='000945', version_id='0.250213.2212'),\n",
       " RemoteBlobAsset(client=<dandi.dandiapi.DandiAPIClient object at 0x7f7be306a890>, identifier='324ef57b-2035-4e84-8bbb-c46fa28c7358', path='sub-BH521/sub-BH521_ses-20240206T162653_ecephys.nwb', size=6467824, created=datetime.datetime(2024, 9, 30, 18, 50, 3, 875612, tzinfo=TzInfo(UTC)), modified=datetime.datetime(2025, 2, 13, 22, 12, 11, 853939, tzinfo=TzInfo(UTC)), blob='86f9d7a5-0b45-4260-b4d2-ffb0542b9a5c', dandiset_id='000945', version_id='0.250213.2212')]"
      ]
     },
     "execution_count": 1,
     "metadata": {},
     "output_type": "execute_result"
    }
   ],
   "source": [
    "from dandi.dandiapi import DandiAPIClient\n",
    "client = DandiAPIClient()\n",
    "dandiset = client.get_dandiset(\"000945\")\n",
    "assets = list(dandiset.get_assets())\n",
    "assets"
   ]
  },
  {
   "cell_type": "markdown",
   "id": "3c464971",
   "metadata": {},
   "source": [
    "The above code block uses the DANDI API to list all of the assets in the Dandiset."
   ]
  },
  {
   "cell_type": "markdown",
   "id": "ad1bf63a",
   "metadata": {},
   "source": [
    "## Loading and Exploring the Dataset\n",
    "\n",
    "The dataset is stored in the Neurodata Without Borders (NWB) format.\n",
    "We will use the `pynwb` and `lindi` libraries to load and explore the data. We will be loading remote files which may\n",
    "take time."
   ]
  },
  {
   "cell_type": "code",
   "execution_count": 2,
   "id": "0ca5c218",
   "metadata": {
    "execution": {
     "iopub.execute_input": "2025-04-04T12:33:15.282241Z",
     "iopub.status.busy": "2025-04-04T12:33:15.281918Z",
     "iopub.status.idle": "2025-04-04T12:33:17.026223Z",
     "shell.execute_reply": "2025-04-04T12:33:17.025691Z"
    }
   },
   "outputs": [
    {
     "name": "stdout",
     "output_type": "stream",
     "text": [
      "NWB file loaded successfully.\n"
     ]
    },
    {
     "name": "stderr",
     "output_type": "stream",
     "text": [
      "/opt/conda/lib/python3.11/site-packages/hdmf/spec/namespace.py:535: UserWarning: Ignoring cached namespace 'hdmf-common' version 1.5.0 because version 1.8.0 is already loaded.\n",
      "  warn(\"Ignoring cached namespace '%s' version %s because version %s is already loaded.\"\n",
      "/opt/conda/lib/python3.11/site-packages/hdmf/spec/namespace.py:535: UserWarning: Ignoring cached namespace 'core' version 2.5.0 because version 2.7.0 is already loaded.\n",
      "  warn(\"Ignoring cached namespace '%s' version %s because version %s is already loaded.\"\n",
      "/opt/conda/lib/python3.11/site-packages/hdmf/spec/namespace.py:535: UserWarning: Ignoring cached namespace 'hdmf-experimental' version 0.1.0 because version 0.5.0 is already loaded.\n",
      "  warn(\"Ignoring cached namespace '%s' version %s because version %s is already loaded.\"\n"
     ]
    }
   ],
   "source": [
    "import pynwb\n",
    "import lindi\n",
    "import matplotlib.pyplot as plt\n",
    "import numpy as np\n",
    "from PIL import Image\n",
    "\n",
    "# Load the NWB file\n",
    "try:\n",
    "    f = lindi.LindiH5pyFile.from_lindi_file(\"https://lindi.neurosift.org/dandi/dandisets/000945/assets/a4e04662-e4cb-49f3-9076-41e04e833a11/nwb.lindi.json\")\n",
    "    nwb = pynwb.NWBHDF5IO(file=f, mode='r').read()\n",
    "    print(\"NWB file loaded successfully.\")\n",
    "except Exception as e:\n",
    "    print(f\"Error loading NWB file: {e}\")"
   ]
  },
  {
   "cell_type": "markdown",
   "id": "cc89e1bd",
   "metadata": {},
   "source": [
    "## Exploring the NWB File Content\n",
    "\n",
    "Now we can explore the content of the NWB file."
   ]
  },
  {
   "cell_type": "code",
   "execution_count": 3,
   "id": "fa5f4ffd",
   "metadata": {
    "execution": {
     "iopub.execute_input": "2025-04-04T12:33:17.028278Z",
     "iopub.status.busy": "2025-04-04T12:33:17.027741Z",
     "iopub.status.idle": "2025-04-04T12:33:17.031863Z",
     "shell.execute_reply": "2025-04-04T12:33:17.031402Z"
    }
   },
   "outputs": [
    {
     "data": {
      "text/plain": [
       "'Awake S1 Stimulation by tFUS'"
      ]
     },
     "execution_count": 3,
     "metadata": {},
     "output_type": "execute_result"
    }
   ],
   "source": [
    "nwb.session_description"
   ]
  },
  {
   "cell_type": "code",
   "execution_count": 4,
   "id": "ce6b9775",
   "metadata": {
    "execution": {
     "iopub.execute_input": "2025-04-04T12:33:17.033643Z",
     "iopub.status.busy": "2025-04-04T12:33:17.033238Z",
     "iopub.status.idle": "2025-04-04T12:33:17.036651Z",
     "shell.execute_reply": "2025-04-04T12:33:17.036225Z"
    }
   },
   "outputs": [
    {
     "data": {
      "text/plain": [
       "'BH498_3000_200_anes'"
      ]
     },
     "execution_count": 4,
     "metadata": {},
     "output_type": "execute_result"
    }
   ],
   "source": [
    "nwb.identifier"
   ]
  },
  {
   "cell_type": "code",
   "execution_count": 5,
   "id": "276ef1a8",
   "metadata": {
    "execution": {
     "iopub.execute_input": "2025-04-04T12:33:17.038217Z",
     "iopub.status.busy": "2025-04-04T12:33:17.037999Z",
     "iopub.status.idle": "2025-04-04T12:33:17.041366Z",
     "shell.execute_reply": "2025-04-04T12:33:17.040920Z"
    }
   },
   "outputs": [
    {
     "data": {
      "text/plain": [
       "datetime.datetime(2024, 3, 10, 14, 37, 29, tzinfo=tzoffset(None, -14400))"
      ]
     },
     "execution_count": 5,
     "metadata": {},
     "output_type": "execute_result"
    }
   ],
   "source": [
    "nwb.session_start_time"
   ]
  },
  {
   "cell_type": "markdown",
   "id": "f74c44be",
   "metadata": {},
   "source": [
    "Getting information about the electrodes and units."
   ]
  },
  {
   "cell_type": "code",
   "execution_count": 6,
   "id": "7e7062ff",
   "metadata": {
    "execution": {
     "iopub.execute_input": "2025-04-04T12:33:17.043143Z",
     "iopub.status.busy": "2025-04-04T12:33:17.042732Z",
     "iopub.status.idle": "2025-04-04T12:33:17.046124Z",
     "shell.execute_reply": "2025-04-04T12:33:17.045691Z"
    }
   },
   "outputs": [
    {
     "data": {
      "text/plain": [
       "('x', 'y', 'z', 'imp', 'location', 'filtering', 'group', 'group_name')"
      ]
     },
     "execution_count": 6,
     "metadata": {},
     "output_type": "execute_result"
    }
   ],
   "source": [
    "electrodes = nwb.electrodes\n",
    "electrodes.colnames"
   ]
  },
  {
   "cell_type": "code",
   "execution_count": 7,
   "id": "c90b50e7",
   "metadata": {
    "execution": {
     "iopub.execute_input": "2025-04-04T12:33:17.047803Z",
     "iopub.status.busy": "2025-04-04T12:33:17.047435Z",
     "iopub.status.idle": "2025-04-04T12:33:17.051155Z",
     "shell.execute_reply": "2025-04-04T12:33:17.050692Z"
    }
   },
   "outputs": [
    {
     "data": {
      "text/plain": [
       "32"
      ]
     },
     "execution_count": 7,
     "metadata": {},
     "output_type": "execute_result"
    }
   ],
   "source": [
    "electrode_ids = electrodes[\"id\"].data[:]\n",
    "len(electrode_ids)"
   ]
  },
  {
   "cell_type": "code",
   "execution_count": 8,
   "id": "3aa83adf",
   "metadata": {
    "execution": {
     "iopub.execute_input": "2025-04-04T12:33:17.052689Z",
     "iopub.status.busy": "2025-04-04T12:33:17.052472Z",
     "iopub.status.idle": "2025-04-04T12:33:17.055737Z",
     "shell.execute_reply": "2025-04-04T12:33:17.055306Z"
    }
   },
   "outputs": [
    {
     "data": {
      "text/plain": [
       "('spike_times', 'celltype_label')"
      ]
     },
     "execution_count": 8,
     "metadata": {},
     "output_type": "execute_result"
    }
   ],
   "source": [
    "units = nwb.units\n",
    "units.colnames"
   ]
  },
  {
   "cell_type": "code",
   "execution_count": 9,
   "id": "1e92ff40",
   "metadata": {
    "execution": {
     "iopub.execute_input": "2025-04-04T12:33:17.057321Z",
     "iopub.status.busy": "2025-04-04T12:33:17.056977Z",
     "iopub.status.idle": "2025-04-04T12:33:17.060253Z",
     "shell.execute_reply": "2025-04-04T12:33:17.059827Z"
    }
   },
   "outputs": [
    {
     "data": {
      "text/plain": [
       "64"
      ]
     },
     "execution_count": 9,
     "metadata": {},
     "output_type": "execute_result"
    }
   ],
   "source": [
    "unit_ids = units[\"id\"].data\n",
    "len(unit_ids)"
   ]
  },
  {
   "cell_type": "markdown",
   "id": "d9c099b8",
   "metadata": {},
   "source": [
    "## Accessing and Visualizing Sample Data\n",
    "\n",
    "The following code shows how to access and visualize sample data from the NWB file.\n",
    "We will start by plotting the spike times for a subset of units."
   ]
  },
  {
   "cell_type": "code",
   "execution_count": 10,
   "id": "df0fa8f3",
   "metadata": {
    "execution": {
     "iopub.execute_input": "2025-04-04T12:33:17.061832Z",
     "iopub.status.busy": "2025-04-04T12:33:17.061541Z",
     "iopub.status.idle": "2025-04-04T12:33:21.133652Z",
     "shell.execute_reply": "2025-04-04T12:33:21.132890Z"
    }
   },
   "outputs": [
    {
     "data": {
      "image/png": "[encoded data removed]",
      "text/plain": [
       "<Figure size 1000x600 with 1 Axes>"
      ]
     },
     "metadata": {},
     "output_type": "display_data"
    }
   ],
   "source": [
    "# Get spike times for a subset of units\n",
    "try:\n",
    "    units = nwb.units\n",
    "    unit_ids = units[\"id\"].data[:]\n",
    "    num_units = len(unit_ids)\n",
    "    num_units_to_plot = min(5, num_units) # Plot max 5 units\n",
    "    spike_times = []\n",
    "    for i in range(num_units_to_plot):\n",
    "        spike_times.append(units[\"spike_times\"][i][:])\n",
    "\n",
    "    # Create a raster plot\n",
    "    plt.figure(figsize=(10, 6))\n",
    "    for i, spikes in enumerate(spike_times):\n",
    "        plt.vlines(spikes, i + 0.5, i + 1.5, linewidth=0.5)\n",
    "\n",
    "    plt.xlabel(\"Time (s)\")\n",
    "    plt.ylabel(\"Unit ID\")\n",
    "    plt.yticks(np.arange(1, num_units_to_plot + 1), unit_ids[:num_units_to_plot])\n",
    "    plt.title(\"Raster Plot of Spike Times for a Subset of Units\")\n",
    "    plt.savefig(\"raster_plot.png\")\n",
    "\n",
    "except Exception as e:\n",
    "    print(f\"Error generating raster plot: {e}\")"
   ]
  },
  {
   "cell_type": "markdown",
   "id": "d542663c",
   "metadata": {},
   "source": [
    "The raster plot shows the spike times for a subset of units. The x-axis represents time (in seconds), and the y-axis represents the unit ID. Each vertical line represents a spike. The raster plot can be used to visualize the spiking activity of individual units and to identify patterns in the spiking activity."
   ]
  },
  {
   "cell_type": "markdown",
   "id": "176a595d",
   "metadata": {},
   "source": [
    "The distribution of trial start times can be plotted using the following code. The trials data is useful since ultrasound stimulation is delivered every 2.5 seconds with a 10% jitter, and each recording has 500 trials."
   ]
  },
  {
   "cell_type": "code",
   "execution_count": 11,
   "id": "1e19a4d6",
   "metadata": {
    "execution": {
     "iopub.execute_input": "2025-04-04T12:33:21.135833Z",
     "iopub.status.busy": "2025-04-04T12:33:21.135547Z",
     "iopub.status.idle": "2025-04-04T12:33:21.383127Z",
     "shell.execute_reply": "2025-04-04T12:33:21.382573Z"
    }
   },
   "outputs": [
    {
     "data": {
      "image/png": "[encoded data removed]",
      "text/plain": [
       "<Figure size 1000x400 with 1 Axes>"
      ]
     },
     "metadata": {},
     "output_type": "display_data"
    }
   ],
   "source": [
    "try:\n",
    "    # Plot trial start times\n",
    "    trials = nwb.intervals[\"trials\"]\n",
    "    trial_start_times = trials[\"start_time\"][:]\n",
    "    plt.figure(figsize=(10, 4))\n",
    "    plt.hist(trial_start_times, bins=50)\n",
    "    plt.xlabel(\"Trial Start Time (s)\")\n",
    "    plt.ylabel(\"Count\")\n",
    "    plt.title(\"Distribution of Trial Start Times\")\n",
    "    plt.savefig(\"trial_start_times.png\")\n",
    "\n",
    "except Exception as e:\n",
    "    print(f\"Error generating trial start times histogram: {e}\")"
   ]
  }
 ],
 "metadata": {
  "jupytext": {
   "cell_metadata_filter": "-all",
   "main_language": "python",
   "notebook_metadata_filter": "-all"
  },
  "language_info": {
   "codemirror_mode": {
    "name": "ipython",
    "version": 3
   },
   "file_extension": ".py",
   "mimetype": "text/x-python",
   "name": "python",
   "nbconvert_exporter": "python",
   "pygments_lexer": "ipython3",
   "version": "3.11.10"
  }
 },
 "nbformat": 4,
 "nbformat_minor": 5
}
