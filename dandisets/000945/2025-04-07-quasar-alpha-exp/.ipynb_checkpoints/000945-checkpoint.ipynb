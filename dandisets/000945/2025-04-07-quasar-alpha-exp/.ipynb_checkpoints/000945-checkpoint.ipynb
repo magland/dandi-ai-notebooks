{
 "cells": [
  {
   "cell_type": "markdown",
   "id": "4b5fccfd",
   "metadata": {},
   "source": [
    "# Exploratory Analysis of DANDI Dataset 000945\n",
    "\n",
    "**Dataset Title:** Neural Spiking Data in the Awake Rat Somatosensory Cortex Responding to Trials of Transcranial Focused Ultrasound Stimulation\n",
    "\n",
    "**Citation:** Ramachandran, Sandhya et al. (2025) [DANDI Archive Link](https://dandiarchive.org/dandiset/000945/draft)\n",
    "\n",
    "**Dataset Description:**\n",
    "This dataset contains electrophysiological data recorded from awake rats being stimulated transcranially using ultrasound with varying PRFs. Data include:\n",
    "* 32-channel recordings\n",
    "* Spike-sorted units labeled by cell type (RSU or FSU)\n",
    "* Trial onset/offset times for ultrasound stimulation\n",
    "\n",
    "**Important:**  \n",
    "This notebook was **AI-generated via dandi-notebook-gen** and may contain errors. Validate the code and results before relying on them.\n",
    "\n",
    "---"
   ]
  },
  {
   "cell_type": "markdown",
   "id": "b526c08a",
   "metadata": {},
   "source": [
    "## Dandiset Metadata\n",
    "\n",
    "Loaded from DANDI archive:\n",
    "\n",
    "* **Version:** draft\n",
    "* **License:** CC-BY-4.0\n",
    "* **Created:** 2024-03-30\n",
    "* **Contributors:** Carnegie Mellon University researchers, supported by NIH grants\n",
    "* **About:** Chronic in vivo recordings in rats comparing multiple ultrasound pulse repetition frequencies, awake/anesthetized states.\n",
    "\n",
    "**Note:** Full metadata and citation info are available on DANDI."
   ]
  },
  {
   "cell_type": "code",
   "execution_count": 1,
   "id": "e08f3de9",
   "metadata": {
    "execution": {
     "iopub.execute_input": "2025-04-07T13:12:47.895360Z",
     "iopub.status.busy": "2025-04-07T13:12:47.895096Z",
     "iopub.status.idle": "2025-04-07T13:12:48.775020Z",
     "shell.execute_reply": "2025-04-07T13:12:48.774387Z"
    }
   },
   "outputs": [
    {
     "name": "stdout",
     "output_type": "stream",
     "text": [
      "Number of assets in Dandiset: 75\n",
      "sub-BH498/sub-BH498_ses-20240306T124227_ecephys.nwb\n",
      "sub-BH498/sub-BH498_ses-20240305T200606_ecephys.nwb\n",
      "sub-BH498/sub-BH498_ses-20240305T191833_ecephys.nwb\n",
      "sub-BH498/sub-BH498_ses-20230906T180913_ecephys.nwb\n",
      "sub-BH498/sub-BH498_ses-20240305T204552_ecephys.nwb\n"
     ]
    }
   ],
   "source": [
    "# List all assets in this Dandiset using DANDI API\n",
    "from dandi.dandiapi import DandiAPIClient\n",
    "client = DandiAPIClient()\n",
    "dandiset = client.get_dandiset(\"000945\")\n",
    "assets = list(dandiset.get_assets())\n",
    "print(\"Number of assets in Dandiset:\", len(assets))\n",
    "for a in assets[:5]:\n",
    "    print(a.path)"
   ]
  },
  {
   "cell_type": "markdown",
   "id": "84771d3f",
   "metadata": {},
   "source": [
    "We focus here on a representative session from subject **BH497**, with example file:\n",
    "```\n",
    "https://api.dandiarchive.org/api/assets/a4e04662-e4cb-49f3-9076-41e04e833a11/download/\n",
    "```\n",
    "which contains awake trial data during ultrasound stimulation."
   ]
  },
  {
   "cell_type": "code",
   "execution_count": 2,
   "id": "a529df9d",
   "metadata": {
    "execution": {
     "iopub.execute_input": "2025-04-07T13:12:48.777074Z",
     "iopub.status.busy": "2025-04-07T13:12:48.776727Z",
     "iopub.status.idle": "2025-04-07T13:12:50.112878Z",
     "shell.execute_reply": "2025-04-07T13:12:50.112198Z"
    }
   },
   "outputs": [
    {
     "name": "stdout",
     "output_type": "stream",
     "text": [
      "Session description: Awake S1 Stimulation by tFUS\n",
      "Session start time: 2024-03-10 14:37:29-04:00\n"
     ]
    },
    {
     "name": "stderr",
     "output_type": "stream",
     "text": [
      "/opt/conda/lib/python3.11/site-packages/hdmf/spec/namespace.py:535: UserWarning: Ignoring cached namespace 'hdmf-common' version 1.5.0 because version 1.8.0 is already loaded.\n",
      "  warn(\"Ignoring cached namespace '%s' version %s because version %s is already loaded.\"\n",
      "/opt/conda/lib/python3.11/site-packages/hdmf/spec/namespace.py:535: UserWarning: Ignoring cached namespace 'core' version 2.5.0 because version 2.7.0 is already loaded.\n",
      "  warn(\"Ignoring cached namespace '%s' version %s because version %s is already loaded.\"\n",
      "/opt/conda/lib/python3.11/site-packages/hdmf/spec/namespace.py:535: UserWarning: Ignoring cached namespace 'hdmf-experimental' version 0.1.0 because version 0.5.0 is already loaded.\n",
      "  warn(\"Ignoring cached namespace '%s' version %s because version %s is already loaded.\"\n"
     ]
    }
   ],
   "source": [
    "# Load this NWB file using LINDI and pynwb\n",
    "import lindi\n",
    "import pynwb\n",
    "\n",
    "nwb_lindi_url = \"https://lindi.neurosift.org/dandi/dandisets/000945/assets/a4e04662-e4cb-49f3-9076-41e04e833a11/nwb.lindi.json\"\n",
    "f = lindi.LindiH5pyFile.from_lindi_file(nwb_lindi_url)\n",
    "nwb = pynwb.NWBHDF5IO(file=f, mode=\"r\").read()\n",
    "\n",
    "print(f\"Session description: {nwb.session_description}\")\n",
    "print(f\"Session start time: {nwb.session_start_time}\")"
   ]
  },
  {
   "cell_type": "markdown",
   "id": "102941f0",
   "metadata": {},
   "source": [
    "## Experimental Metadata\n",
    "\n",
    "- Subject ID: `BH497`\n",
    "- Species: *Rattus norvegicus*\n",
    "- Sex: Male\n",
    "- Session: Awake S1 Stimulation by tFUS\n",
    "- Number of ultrasound trials: 500\n",
    "- Number of electrodes: 32\n",
    "- Number of spike-sorted units: 64 (split equally RSU/FSU)\n",
    "\n",
    "Trials occur roughly evenly over ~1250 seconds."
   ]
  },
  {
   "cell_type": "code",
   "execution_count": 3,
   "id": "e4241435",
   "metadata": {
    "execution": {
     "iopub.execute_input": "2025-04-07T13:12:50.114727Z",
     "iopub.status.busy": "2025-04-07T13:12:50.114314Z",
     "iopub.status.idle": "2025-04-07T13:12:50.118534Z",
     "shell.execute_reply": "2025-04-07T13:12:50.118054Z"
    }
   },
   "outputs": [
    {
     "name": "stdout",
     "output_type": "stream",
     "text": [
      "Electrode column names: ('x', 'y', 'z', 'imp', 'location', 'filtering', 'group', 'group_name')\n",
      "Electrode IDs: [ 0  1  2  3  4  5  6  7  8  9 10 11 12 13 14 15 16 17 18 19 20 21 22 23\n",
      " 24 25 26 27 28 29 30 31]\n"
     ]
    }
   ],
   "source": [
    "# Access electrodes\n",
    "electrodes = nwb.electrodes\n",
    "print(\"Electrode column names:\", electrodes.colnames)\n",
    "electrode_ids = electrodes[\"id\"].data[:]\n",
    "print(\"Electrode IDs:\", electrode_ids)"
   ]
  },
  {
   "cell_type": "code",
   "execution_count": 4,
   "id": "d73ac199",
   "metadata": {
    "execution": {
     "iopub.execute_input": "2025-04-07T13:12:50.120068Z",
     "iopub.status.busy": "2025-04-07T13:12:50.119781Z",
     "iopub.status.idle": "2025-04-07T13:12:50.123486Z",
     "shell.execute_reply": "2025-04-07T13:12:50.123013Z"
    }
   },
   "outputs": [
    {
     "name": "stdout",
     "output_type": "stream",
     "text": [
      "Trial start time range: [ 0.40824832  3.05061888  5.559296    8.10848256 10.39286272] ...\n"
     ]
    }
   ],
   "source": [
    "# Access trial info\n",
    "trials = nwb.intervals[\"trials\"]\n",
    "print(\"Trial start time range:\", trials[\"start_time\"][:5], \"...\")"
   ]
  },
  {
   "cell_type": "code",
   "execution_count": 5,
   "id": "2a8ad760",
   "metadata": {
    "execution": {
     "iopub.execute_input": "2025-04-07T13:12:50.124970Z",
     "iopub.status.busy": "2025-04-07T13:12:50.124805Z",
     "iopub.status.idle": "2025-04-07T13:12:50.129078Z",
     "shell.execute_reply": "2025-04-07T13:12:50.128604Z"
    }
   },
   "outputs": [
    {
     "name": "stdout",
     "output_type": "stream",
     "text": [
      "Number of units: 64\n",
      "Number of RSU cells (label=1): 32\n",
      "Number of FSU cells (label=2): 32\n"
     ]
    }
   ],
   "source": [
    "# Access units and cell types\n",
    "units = nwb.units\n",
    "unit_ids = units[\"id\"].data[:]\n",
    "cell_types = units[\"celltype_label\"].data[:]\n",
    "print(\"Number of units:\", len(unit_ids))\n",
    "print(\"Number of RSU cells (label=1):\", sum(cell_types == 1))\n",
    "print(\"Number of FSU cells (label=2):\", sum(cell_types == 2))"
   ]
  },
  {
   "cell_type": "markdown",
   "id": "bf4ed30d",
   "metadata": {},
   "source": [
    "## Distribution of Spike Counts Across Units"
   ]
  },
  {
   "cell_type": "code",
   "execution_count": 6,
   "id": "ec743c76",
   "metadata": {
    "execution": {
     "iopub.execute_input": "2025-04-07T13:12:50.130573Z",
     "iopub.status.busy": "2025-04-07T13:12:50.130341Z",
     "iopub.status.idle": "2025-04-07T13:12:58.828847Z",
     "shell.execute_reply": "2025-04-07T13:12:58.828173Z"
    }
   },
   "outputs": [
    {
     "data": {
      "image/png": "[encoded data removed]",
      "text/plain": [
       "<IPython.core.display.Image object>"
      ]
     },
     "execution_count": 6,
     "metadata": {},
     "output_type": "execute_result"
    }
   ],
   "source": [
    "import matplotlib.pyplot as plt\n",
    "import numpy as np\n",
    "\n",
    "spike_counts = []\n",
    "for idx in range(len(unit_ids)):\n",
    "    spikes = units['spike_times'][idx]\n",
    "    spike_counts.append(len(spikes))\n",
    "\n",
    "plt.figure(figsize=(8,6))\n",
    "plt.hist(spike_counts, bins=20, color='blue', alpha=0.7)\n",
    "plt.xlabel('Spike Count per Unit')\n",
    "plt.ylabel('Number of Units')\n",
    "plt.title('Distribution of Spike Counts Across Units')\n",
    "plt.tight_layout()\n",
    "plt.savefig('spike_count_histogram.png')\n",
    "plt.close()\n",
    "\n",
    "from IPython.display import Image\n",
    "Image('spike_count_histogram.png')"
   ]
  },
  {
   "cell_type": "markdown",
   "id": "baa8574c",
   "metadata": {},
   "source": [
    "This histogram shows a right-skewed, multimodal distribution of spike counts, with a dominant cluster around 10,000–15,000 spikes and some units showing higher counts."
   ]
  },
  {
   "cell_type": "markdown",
   "id": "28e50fb7",
   "metadata": {},
   "source": [
    "## Mean Firing Rate Per Unit"
   ]
  },
  {
   "cell_type": "code",
   "execution_count": 7,
   "id": "5af800c4",
   "metadata": {
    "execution": {
     "iopub.execute_input": "2025-04-07T13:12:58.830798Z",
     "iopub.status.busy": "2025-04-07T13:12:58.830356Z",
     "iopub.status.idle": "2025-04-07T13:13:06.945291Z",
     "shell.execute_reply": "2025-04-07T13:13:06.944705Z"
    }
   },
   "outputs": [
    {
     "data": {
      "image/png": "[encoded data removed]",
      "text/plain": [
       "<IPython.core.display.Image object>"
      ]
     },
     "execution_count": 7,
     "metadata": {},
     "output_type": "execute_result"
    }
   ],
   "source": [
    "mean_firing_rates = []\n",
    "for idx in range(len(unit_ids)):\n",
    "    spikes = units['spike_times'][idx]\n",
    "    duration = (spikes[-1] - spikes[0]) if len(spikes) > 1 else 1\n",
    "    mean_firing_rates.append(len(spikes) / max(duration, 1e-8))\n",
    "\n",
    "plt.figure(figsize=(8,6))\n",
    "plt.bar(unit_ids, mean_firing_rates, color='orange', alpha=0.7)\n",
    "plt.xlabel('Unit ID')\n",
    "plt.ylabel('Mean Firing Rate (Hz)')\n",
    "plt.title('Mean Firing Rate Per Unit')\n",
    "plt.tight_layout()\n",
    "plt.savefig('mean_firing_rate_per_unit.png')\n",
    "plt.close()\n",
    "\n",
    "Image('mean_firing_rate_per_unit.png')"
   ]
  },
  {
   "cell_type": "markdown",
   "id": "ee6d1f37",
   "metadata": {},
   "source": [
    "This bar plot illustrates firing rate heterogeneity among units, ranging roughly from 5 Hz up to >40 Hz, with a few outliers."
   ]
  },
  {
   "cell_type": "markdown",
   "id": "58a99dbc",
   "metadata": {},
   "source": [
    "## Stimulus Trial Timing"
   ]
  },
  {
   "cell_type": "code",
   "execution_count": 8,
   "id": "bd39dde4",
   "metadata": {
    "execution": {
     "iopub.execute_input": "2025-04-07T13:13:06.946957Z",
     "iopub.status.busy": "2025-04-07T13:13:06.946713Z",
     "iopub.status.idle": "2025-04-07T13:13:07.123801Z",
     "shell.execute_reply": "2025-04-07T13:13:07.123325Z"
    }
   },
   "outputs": [
    {
     "data": {
      "image/png": "[encoded data removed]",
      "text/plain": [
       "<IPython.core.display.Image object>"
      ]
     },
     "execution_count": 8,
     "metadata": {},
     "output_type": "execute_result"
    }
   ],
   "source": [
    "start_times = trials[\"start_time\"][:]\n",
    "\n",
    "plt.figure(figsize=(8,6))\n",
    "plt.hist(start_times, bins=30, color='green', alpha=0.7)\n",
    "plt.xlabel('Trial Start Time (s)')\n",
    "plt.ylabel('Number of Trials')\n",
    "plt.title('Distribution of Trial Start Times')\n",
    "plt.tight_layout()\n",
    "plt.savefig('trial_start_times_histogram.png')\n",
    "plt.close()\n",
    "\n",
    "Image('trial_start_times_histogram.png')"
   ]
  },
  {
   "cell_type": "markdown",
   "id": "01d4a52b",
   "metadata": {},
   "source": [
    "This plot shows that stimulus trials were approximately evenly distributed over the recording duration with no significant gaps."
   ]
  },
  {
   "cell_type": "markdown",
   "id": "7b09e8a6",
   "metadata": {},
   "source": [
    "## Next Steps\n",
    "\n",
    "This notebook provides a starting point for exploring dataset 000945, including:\n",
    "- Loading NWB data with LINDI+pynwb\n",
    "- Extracting metadata, trial info, spike times\n",
    "- Performing basic visualizations of spike count distributions and trial structure\n",
    "\n",
    "**For detailed scientific analyses**, users should consider:\n",
    "- Aligning spikes to stimuli (peristimulus histograms)\n",
    "- Comparing activity across PRF conditions\n",
    "- Statistical tests of firing rate changes\n",
    "- Cell type-specific responses\n",
    "\n",
    "**Important:** No strong scientific claims should be made solely based on these explorations without rigorous analyses and validation."
   ]
  }
 ],
 "metadata": {
  "jupytext": {
   "cell_metadata_filter": "-all",
   "main_language": "python",
   "notebook_metadata_filter": "-all"
  },
  "language_info": {
   "codemirror_mode": {
    "name": "ipython",
    "version": 3
   },
   "file_extension": ".py",
   "mimetype": "text/x-python",
   "name": "python",
   "nbconvert_exporter": "python",
   "pygments_lexer": "ipython3",
   "version": "3.11.10"
  }
 },
 "nbformat": 4,
 "nbformat_minor": 5
}
