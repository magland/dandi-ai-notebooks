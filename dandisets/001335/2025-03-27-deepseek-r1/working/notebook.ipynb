{
 "cells": [
  {
   "cell_type": "markdown",
   "id": "812921b7",
   "metadata": {},
   "source": [
    "# DANDI 001335 Analysis Notebook\n",
    "**AI-Generated Notebook**  \n",
    "*Verify results before scientific use*"
   ]
  },
  {
   "cell_type": "markdown",
   "id": "58682562",
   "metadata": {},
   "source": [
    "## Dataset Overview\n",
    "- **Dandiset**: [001335](https://dandiarchive.org/dandiset/001335)\n",
    "- **Title**: Neuropixels Hippocampal Recordings During Odor Presentation\n",
    "- **Subject**: sub-M541 (Male C57BL/6J mouse)\n",
    "- **Session**: 14m recording, 6 odors (A-F), 101 trials each\n",
    "- **Key Features**:\n",
    "  - 238 spike-sorted units (CA1/DG)\n",
    "  - 64-channel LFP @2500Hz\n",
    "  - Full trial event markers\n",
    "- **License**: [CC-BY-4.0](https://creativecommons.org/licenses/by/4.0/)"
   ]
  },
  {
   "cell_type": "markdown",
   "id": "a46a9e81",
   "metadata": {},
   "source": [
    "## Environment Setup"
   ]
  },
  {
   "cell_type": "code",
   "execution_count": null,
   "id": "ea717ba3",
   "metadata": {},
   "outputs": [],
   "source": [
    "# Core neuroscience packages\n",
    "from dandi.dandiapi import DandiAPIClient\n",
    "import pynwb\n",
    "import lindi\n",
    "\n",
    "# Analysis stack\n",
    "import numpy as np\n",
    "import pandas as pd\n",
    "from scipy import signal, stats\n",
    "\n",
    "# Visualization\n",
    "import matplotlib.pyplot as plt\n",
    "import seaborn as sns\n",
    "sns.set_theme(style=\"whitegrid\", context=\"paper\")\n",
    "plt.rcParams.update({\n",
    "    'figure.dpi': 150,\n",
    "    'font.size': 12,\n",
    "    'axes.titlesize': 14\n",
    "})"
   ]
  },
  {
   "cell_type": "markdown",
   "id": "9d5c9342",
   "metadata": {},
   "source": [
    "## Data Access & Validation"
   ]
  },
  {
   "cell_type": "code",
   "execution_count": null,
   "id": "4788e8bf",
   "metadata": {
    "lines_to_next_cell": 1
   },
   "outputs": [],
   "source": [
    "# Initialize DANDI client\n",
    "client = DandiAPIClient()\n",
    "dandiset = client.get_dandiset(\"001335\")\n",
    "asset = list(dandiset.get_assets())[0]\n",
    "\n",
    "# Load data\n",
    "nwb_url = 'https://lindi.neurosift.org/dandi/dandisets/001335/assets/aca66db7-4c02-4453-8dcb-a179d44b1c5d/nwb.lindi.json'\n",
    "h5_file = lindi.LindiH5pyFile.from_lindi_file(nwb_url)\n",
    "nwb = pynwb.NWBHDF5IO(file=h5_file, mode='r').read()\n",
    "\n",
    "# Validate critical metadata\n",
    "assert 2025 == nwb.session_start_time.year, \"Unexpected recording year\"\n",
    "\n",
    "# Extract region names from both bytes and string representations\n",
    "locations = []\n",
    "for loc in nwb.electrodes.location[:]:\n",
    "    if isinstance(loc, bytes):\n",
    "        # Decode bytes and clean quotes/spaces\n",
    "        loc_str = loc.decode().strip(\"'\\\" \")\n",
    "    elif isinstance(loc, str) and (loc.startswith(\"b'\") or loc.startswith('b\"')):\n",
    "        # Remove byte prefix and quotes\n",
    "        loc_str = loc[2:-1].strip(\"'\\\" \")\n",
    "    else:\n",
    "        # Handle normal strings\n",
    "        loc_str = str(loc).strip(\"'\\\" \")\n",
    "    locations.append(loc_str)\n",
    "\n",
    "print(\"Cleaned electrode locations:\", np.unique(locations))\n",
    "assert 'CA1' in locations, f\"Missing CA1 electrodes. Found: {np.unique(locations)}\"\n",
    "\n",
    "print(\"✅ Dataset validation passed\")"
   ]
  },
  {
   "cell_type": "markdown",
   "id": "bcc6091b",
   "metadata": {},
   "source": [
    "## Neural Response Analysis"
   ]
  },
  {
   "cell_type": "code",
   "execution_count": null,
   "id": "0ccab4f8",
   "metadata": {},
   "outputs": [],
   "source": [
    "def analyze_unit_response(unit, events, pre_window=(-1,0), resp_window=(0,1)):\n",
    "    \"\"\"Analyze unit responses with statistical validation\"\"\"\n",
    "    spikes = unit.spike_times[:]\n",
    "    \n",
    "    # Calculate rates\n",
    "    baseline = len(spikes)/846.5  # Overall baseline\n",
    "    pre_counts = []\n",
    "    resp_counts = []\n",
    "    \n",
    "    for start, _ in events:\n",
    "        pre = ((spikes >= start+pre_window[0]) & (spikes < start+pre_window[1])).sum()\n",
    "        resp = ((spikes >= start+resp_window[0]) & (spikes < start+resp_window[1])).sum()\n",
    "        pre_counts.append(pre/abs(pre_window[0]))\n",
    "        resp_counts.append(resp/(resp_window[1]-resp_window[0]))\n",
    "    \n",
    "    # Statistical testing\n",
    "    t_stat, p_val = stats.ttest_rel(resp_counts, pre_counts)\n",
    "    \n",
    "    return {\n",
    "        'unit_id': unit.id,\n",
    "        'location': unit.location,\n",
    "        'baseline': baseline,\n",
    "        'response_ratio': np.mean(resp_counts)/baseline,\n",
    "        'p_value': p_val\n",
    "    }\n",
    "\n",
    "# Analyze first 10 CA1 units\n",
    "odor_a_events = list(zip(nwb.intervals['Odor A ON'].start_time, \n",
    "                        nwb.intervals['Odor A ON'].stop_time))\n",
    "ca1_units = [u for u in nwb.units if u.location == 'CA1'][:10]\n",
    "\n",
    "results = [analyze_unit_response(u, odor_a_events) for u in ca1_units]\n",
    "response_df = pd.DataFrame(results)\n",
    "display(response_df.head())"
   ]
  },
  {
   "cell_type": "markdown",
   "id": "20702915",
   "metadata": {},
   "source": [
    "### Visualization: Significant Responses"
   ]
  },
  {
   "cell_type": "code",
   "execution_count": null,
   "id": "36723b0d",
   "metadata": {},
   "outputs": [],
   "source": [
    "sig_df = response_df[response_df.p_value < 0.05]\n",
    "\n",
    "plt.figure(figsize=(10,5))\n",
    "sns.barplot(x='unit_id', y='response_ratio', hue='location',\n",
    "            data=sig_df, palette='viridis', edgecolor='k')\n",
    "plt.axhline(1, color='r', linestyle='--', label='Baseline')\n",
    "plt.title('Significant Odor Responses (p < 0.05)\\nCA1 Units')\n",
    "plt.ylabel('Response Ratio (Post/Pre)')\n",
    "plt.xlabel('Unit ID')\n",
    "plt.legend(bbox_to_anchor=(1.15, 1))\n",
    "plt.tight_layout()\n",
    "plt.show()"
   ]
  },
  {
   "cell_type": "markdown",
   "id": "48155f95",
   "metadata": {},
   "source": [
    "## Spatial Organization Analysis"
   ]
  },
  {
   "cell_type": "code",
   "execution_count": null,
   "id": "658cc78f",
   "metadata": {
    "lines_to_next_cell": 1
   },
   "outputs": [],
   "source": [
    "# Create electrode positions DataFrame\n",
    "electrode_df = pd.DataFrame({\n",
    "    'x': [e.x for e in nwb.electrodes],\n",
    "    'y': [e.y for e in nwb.electrodes],\n",
    "    'location': [e.location for e in nwb.electrodes]\n",
    "})\n",
    "\n",
    "# Plot spatial distribution\n",
    "plt.figure(figsize=(10,6))\n",
    "sns.scatterplot(data=electrode_df, x='x', y='y', hue='location',\n",
    "               palette='Set2', s=100, alpha=0.7)\n",
    "plt.title('Electrode Locations by Brain Region')\n",
    "plt.xlabel('Medial-Lateral (μm)')\n",
    "plt.ylabel('Dorsal-Ventral (μm)')\n",
    "plt.legend(title='Brain Region')\n",
    "plt.tight_layout()\n",
    "plt.show()"
   ]
  },
  {
   "cell_type": "markdown",
   "id": "edc226e7",
   "metadata": {},
   "source": [
    "## LFP Spectral Analysis"
   ]
  },
  {
   "cell_type": "code",
   "execution_count": null,
   "id": "17746993",
   "metadata": {},
   "outputs": [],
   "source": [
    "def lfp_power_analysis(lfp_data, fs=2500, nperseg=1024):\n",
    "    \"\"\"Compute standardized spectral analysis\"\"\"\n",
    "    f, t, Sxx = signal.spectrogram(lfp_data, fs=fs, nperseg=nperseg)\n",
    "    return {\n",
    "        'frequencies': f,\n",
    "        'times': t,\n",
    "        'power': 10 * np.log10(Sxx),\n",
    "        'mean_power': np.mean(Sxx, axis=1)\n",
    "    }\n",
    "\n",
    "# Analyze CA1 LFP\n",
    "ca1_mask = electrode_df.location == 'CA1'\n",
    "lfp_data = nwb.processing['ecephys'].data_interfaces['LFP'].data[:, ca1_mask]\n",
    "spectral_data = lfp_power_analysis(lfp_data[:30000,0])  # First 12s\n",
    "\n",
    "# Visualization\n",
    "plt.figure(figsize=(12,4))\n",
    "plt.pcolormesh(spectral_data['times'], spectral_data['frequencies'],\n",
    "               spectral_data['power'], cmap='viridis', shading='gouraud')\n",
    "plt.colorbar(label='Power (dB)')\n",
    "plt.ylim(0, 100)\n",
    "plt.title('CA1 LFP Spectrogram (First 12 Seconds)')\n",
    "plt.ylabel('Frequency (Hz)')\n",
    "plt.xlabel('Time (s)')\n",
    "plt.tight_layout()\n",
    "plt.show()"
   ]
  },
  {
   "cell_type": "markdown",
   "id": "0dcdd951",
   "metadata": {},
   "source": [
    "## Critical Notes & Verification\n",
    "1. **Data Provenance**: Remote streaming via DANDI API\n",
    "2. **Statistical Limits**: Uncorrected p-values (apply FDR for research)\n",
    "3. **Spatial Context**: Electrode positions in probe space, not anatomical\n",
    "4. **Verification Requirements**:\n",
    "  - Validate unit isolation quality metrics\n",
    "  - Confirm odor timing alignment\n",
    "  - Check spectrogram parameters"
   ]
  }
 ],
 "metadata": {
  "jupytext": {
   "cell_metadata_filter": "-all",
   "main_language": "python",
   "notebook_metadata_filter": "-all"
  }
 },
 "nbformat": 4,
 "nbformat_minor": 5
}
