{
 "cells": [
  {
   "cell_type": "markdown",
   "id": "ffd935ca",
   "metadata": {},
   "source": [
    "# Exploring Dandiset 001335: Neuropixels Recordings from Hippocampus during Odor Presentation\n",
    "\n",
    "**Note: This notebook was AI-generated using dandi-notebook-gen and has not been fully verified. Please be cautious when interpreting the code or results.**\n",
    "\n",
    "## Introduction\n",
    "\n",
    "This notebook explores Dandiset 001335, titled \"Neuropixels Recordings from Hippocampus of head-fixed mice during odor presentation\". The dataset contains neural recordings from head-fixed wild type mice that were presented with various odor sequences, with neural activity recorded from the hippocampus using Neuropixels probes.\n",
    "\n",
    "## Required Packages\n",
    "\n",
    "This notebook requires the following packages:\n",
    "- dandi\n",
    "- pynwb\n",
    "- lindi\n",
    "- numpy\n",
    "- matplotlib\n",
    "- seaborn\n",
    "\n",
    "If you don't have these packages installed, you can install them with pip:\n",
    "```\n",
    "pip install dandi pynwb lindi numpy matplotlib seaborn\n",
    "```"
   ]
  },
  {
   "cell_type": "code",
   "execution_count": 1,
   "id": "ca198e37",
   "metadata": {
    "execution": {
     "iopub.execute_input": "2025-03-28T01:34:46.149145Z",
     "iopub.status.busy": "2025-03-28T01:34:46.148623Z",
     "iopub.status.idle": "2025-03-28T01:34:47.895400Z",
     "shell.execute_reply": "2025-03-28T01:34:47.894855Z"
    }
   },
   "outputs": [
    {
     "name": "stdout",
     "output_type": "stream",
     "text": [
      "Number of assets: 1\n",
      "Asset 1: sub-M541/sub-M541_ecephys.nwb\n"
     ]
    }
   ],
   "source": [
    "import numpy as np\n",
    "import matplotlib.pyplot as plt\n",
    "import seaborn as sns\n",
    "sns.set_theme()\n",
    "from dandi.dandiapi import DandiAPIClient\n",
    "\n",
    "# Use DANDI API to list all assets in the Dandiset\n",
    "client = DandiAPIClient()\n",
    "dandiset = client.get_dandiset(\"001335\")\n",
    "assets = list(dandiset.get_assets())\n",
    "\n",
    "print(f\"Number of assets: {len(assets)}\")\n",
    "for i, asset in enumerate(assets):\n",
    "    print(f\"Asset {i+1}: {asset.path}\")"
   ]
  },
  {
   "cell_type": "markdown",
   "id": "79dae6a0",
   "metadata": {},
   "source": [
    "## Basic Metadata\n",
    "\n",
    "Let's first explore the basic metadata of the Dandiset to understand what it contains."
   ]
  },
  {
   "cell_type": "code",
   "execution_count": 2,
   "id": "68c92a27",
   "metadata": {
    "execution": {
     "iopub.execute_input": "2025-03-28T01:34:47.897266Z",
     "iopub.status.busy": "2025-03-28T01:34:47.897028Z",
     "iopub.status.idle": "2025-03-28T01:34:47.959564Z",
     "shell.execute_reply": "2025-03-28T01:34:47.959055Z"
    }
   },
   "outputs": [
    {
     "name": "stdout",
     "output_type": "stream",
     "text": [
      "Dandiset Name: Neuropixels Recordings from Hippocampus of head-fixed mice during odor presentation\n",
      "Dandiset Description: Head-fixed wild type mice were presented with various odor sequences, as neural activity was recorded from hippocampus using Neuropixels probes.\n",
      "Dandiset ID: 001335\n",
      "Version: draft\n",
      "Contributors: Mohapatra, Manish, Halchenko, Yaroslav\n"
     ]
    }
   ],
   "source": [
    "# Display dandiset information\n",
    "metadata = dandiset.get_metadata()\n",
    "print(f\"Dandiset Name: {metadata.name}\")\n",
    "print(f\"Dandiset Description: {metadata.description}\")\n",
    "print(f\"Dandiset ID: {dandiset.identifier}\")\n",
    "print(f\"Version: {dandiset.version_id}\")\n",
    "\n",
    "# Get contributors safely\n",
    "try:\n",
    "    contributors = metadata.contributor\n",
    "    contributor_names = []\n",
    "    \n",
    "    for c in contributors:\n",
    "        if hasattr(c, 'name'):\n",
    "            contributor_names.append(c.name)\n",
    "        else:\n",
    "            contributor_names.append(str(c))\n",
    "    \n",
    "    if contributor_names:\n",
    "        print(f\"Contributors: {', '.join(contributor_names)}\")\n",
    "    else:\n",
    "        print(\"Contributors: Not specified\")\n",
    "except Exception as e:\n",
    "    print(f\"Contributors: Not available ({str(e)})\")"
   ]
  },
  {
   "cell_type": "markdown",
   "id": "3d596315",
   "metadata": {},
   "source": [
    "## Loading the NWB File\n",
    "\n",
    "The dataset contains a single NWB file. We'll load this file using `lindi` and `pynwb` to explore its content. `lindi` allows us to efficiently stream data from the NWB file without downloading it entirely."
   ]
  },
  {
   "cell_type": "code",
   "execution_count": 3,
   "id": "9e295c9f",
   "metadata": {
    "execution": {
     "iopub.execute_input": "2025-03-28T01:34:47.961206Z",
     "iopub.status.busy": "2025-03-28T01:34:47.961040Z",
     "iopub.status.idle": "2025-03-28T01:34:48.996781Z",
     "shell.execute_reply": "2025-03-28T01:34:48.996180Z"
    }
   },
   "outputs": [
    {
     "name": "stdout",
     "output_type": "stream",
     "text": [
      "Loading NWB file: sub-M541/sub-M541_ecephys.nwb\n"
     ]
    },
    {
     "name": "stderr",
     "output_type": "stream",
     "text": [
      "/opt/hostedtoolcache/Python/3.11.11/x64/lib/python3.11/site-packages/hdmf/spec/namespace.py:535: UserWarning: Ignoring cached namespace 'core' version 2.7.0 because version 2.8.0 is already loaded.\n",
      "  warn(\"Ignoring cached namespace '%s' version %s because version %s is already loaded.\"\n"
     ]
    },
    {
     "name": "stdout",
     "output_type": "stream",
     "text": [
      "\n",
      "== Basic Metadata ==\n",
      "Session description: Block 1:UE (ABC), Block 2:SE (DEF), Block3:Localizer\n",
      "Identifier: M541-2024-08-31\n",
      "Session start time: 2025-02-14 10:53:25.647928-05:00\n",
      "Experiment description: Head-fixed mouse presented with odor sequences\n",
      "Institution: Dartmouth College\n",
      "Lab: vandermeerlab\n"
     ]
    }
   ],
   "source": [
    "import pynwb\n",
    "import lindi\n",
    "\n",
    "# Define the URL for the NWB file\n",
    "asset_id = assets[0].identifier\n",
    "nwb_url = f\"https://lindi.neurosift.org/dandi/dandisets/001335/assets/{asset_id}/nwb.lindi.json\"\n",
    "\n",
    "# Load the NWB file\n",
    "print(f\"Loading NWB file: {assets[0].path}\")\n",
    "try:\n",
    "    f = lindi.LindiH5pyFile.from_lindi_file(nwb_url)\n",
    "    nwb = pynwb.NWBHDF5IO(file=f, mode='r').read()\n",
    "    \n",
    "    # Display basic metadata\n",
    "    print(\"\\n== Basic Metadata ==\")\n",
    "    print(f\"Session description: {nwb.session_description}\")\n",
    "    print(f\"Identifier: {nwb.identifier}\")\n",
    "    print(f\"Session start time: {nwb.session_start_time}\")\n",
    "    print(f\"Experiment description: {nwb.experiment_description}\")\n",
    "    print(f\"Institution: {nwb.institution}\")\n",
    "    print(f\"Lab: {nwb.lab}\")\n",
    "except Exception as e:\n",
    "    print(f\"Error loading NWB file: {str(e)}\")\n",
    "    # Create an empty variable to avoid errors in later cells\n",
    "    nwb = None"
   ]
  },
  {
   "cell_type": "markdown",
   "id": "62207abd",
   "metadata": {},
   "source": [
    "## Subject Information\n",
    "\n",
    "Now, let's explore information about the subject in this dataset."
   ]
  },
  {
   "cell_type": "code",
   "execution_count": 4,
   "id": "92bb288a",
   "metadata": {
    "execution": {
     "iopub.execute_input": "2025-03-28T01:34:48.998969Z",
     "iopub.status.busy": "2025-03-28T01:34:48.998377Z",
     "iopub.status.idle": "2025-03-28T01:34:49.002576Z",
     "shell.execute_reply": "2025-03-28T01:34:49.001989Z"
    }
   },
   "outputs": [
    {
     "name": "stdout",
     "output_type": "stream",
     "text": [
      "== Subject Information ==\n",
      "Subject ID: M541\n",
      "Age: P8W/\n",
      "Sex: M\n",
      "Species: Mus musculus\n",
      "Description: Headbarr-ed mouse with craniotomies over dCA1\n"
     ]
    }
   ],
   "source": [
    "# Display subject information\n",
    "if nwb is not None:\n",
    "    try:\n",
    "        print(\"== Subject Information ==\")\n",
    "        print(f\"Subject ID: {nwb.subject.subject_id}\")\n",
    "        print(f\"Age: {nwb.subject.age}\")\n",
    "        print(f\"Sex: {nwb.subject.sex}\")\n",
    "        print(f\"Species: {nwb.subject.species}\")\n",
    "        print(f\"Description: {nwb.subject.description}\")\n",
    "    except Exception as e:\n",
    "        print(f\"Error retrieving subject information: {str(e)}\")"
   ]
  },
  {
   "cell_type": "markdown",
   "id": "7dbfdea6",
   "metadata": {},
   "source": [
    "## Experimental Design\n",
    "\n",
    "The experiment is organized into three blocks, each containing different odor presentations:\n",
    "- Block 1: Odors A, B, C\n",
    "- Block 2: Odors D, E, F\n",
    "- Block 3: Localizer\n",
    "\n",
    "Let's examine the timing of these blocks and the odor presentations within each block."
   ]
  },
  {
   "cell_type": "code",
   "execution_count": 5,
   "id": "5162d147",
   "metadata": {
    "execution": {
     "iopub.execute_input": "2025-03-28T01:34:49.004225Z",
     "iopub.status.busy": "2025-03-28T01:34:49.004052Z",
     "iopub.status.idle": "2025-03-28T01:34:49.008792Z",
     "shell.execute_reply": "2025-03-28T01:34:49.008350Z"
    }
   },
   "outputs": [
    {
     "name": "stdout",
     "output_type": "stream",
     "text": [
      "== Block Intervals ==\n",
      "Block 1: Start=616.00s, Stop=2144.00s, Duration=1528.00s\n",
      "Block 2: Start=2712.00s, Stop=4243.00s, Duration=1531.00s\n",
      "Block 3: Start=4859.00s, Stop=6182.00s, Duration=1323.00s\n"
     ]
    }
   ],
   "source": [
    "# Explore block intervals\n",
    "if nwb is not None:\n",
    "    try:\n",
    "        print(\"== Block Intervals ==\")\n",
    "        for block_name in [\"Block 1\", \"Block 2\", \"Block 3\"]:\n",
    "            block = nwb.intervals[block_name]\n",
    "            start_time = block[\"start_time\"].data[:]\n",
    "            stop_time = block[\"stop_time\"].data[:]\n",
    "            duration = stop_time - start_time\n",
    "            print(f\"{block_name}: Start={start_time[0]:.2f}s, Stop={stop_time[0]:.2f}s, Duration={duration[0]:.2f}s\")\n",
    "    except Exception as e:\n",
    "        print(f\"Error retrieving block intervals: {str(e)}\")"
   ]
  },
  {
   "cell_type": "markdown",
   "id": "7b0e0a85",
   "metadata": {},
   "source": [
    "Let's also explore the odor presentation intervals to understand the structure of the experiment."
   ]
  },
  {
   "cell_type": "code",
   "execution_count": 6,
   "id": "4d9eb717",
   "metadata": {
    "execution": {
     "iopub.execute_input": "2025-03-28T01:34:49.010656Z",
     "iopub.status.busy": "2025-03-28T01:34:49.010211Z",
     "iopub.status.idle": "2025-03-28T01:34:49.016049Z",
     "shell.execute_reply": "2025-03-28T01:34:49.015621Z"
    }
   },
   "outputs": [
    {
     "name": "stdout",
     "output_type": "stream",
     "text": [
      "== Odor Presentation Intervals ==\n",
      "Odor A ON: 101 presentations, Avg Duration=2.00s\n",
      "Odor B ON: 101 presentations, Avg Duration=2.00s\n",
      "Odor C ON: 101 presentations, Avg Duration=2.00s\n",
      "Odor D ON: 101 presentations, Avg Duration=2.00s\n",
      "Odor E ON: 101 presentations, Avg Duration=2.00s\n",
      "Odor F ON: 101 presentations, Avg Duration=2.00s\n"
     ]
    }
   ],
   "source": [
    "# Explore odor presentation intervals\n",
    "if nwb is not None:\n",
    "    try:\n",
    "        print(\"== Odor Presentation Intervals ==\")\n",
    "        for odor_name in [\"Odor A ON\", \"Odor B ON\", \"Odor C ON\", \"Odor D ON\", \"Odor E ON\", \"Odor F ON\"]:\n",
    "            odor = nwb.intervals[odor_name]\n",
    "            start_times = odor[\"start_time\"].data[:]\n",
    "            stop_times = odor[\"stop_time\"].data[:]\n",
    "            durations = stop_times - start_times\n",
    "            avg_duration = np.mean(durations)\n",
    "            print(f\"{odor_name}: {len(start_times)} presentations, Avg Duration={avg_duration:.2f}s\")\n",
    "    except Exception as e:\n",
    "        print(f\"Error retrieving odor presentation intervals: {str(e)}\")"
   ]
  },
  {
   "cell_type": "markdown",
   "id": "ec9704d2",
   "metadata": {},
   "source": [
    "### Visualizing Odor Presentations\n",
    "\n",
    "Now let's visualize the odor presentation timeline for Block 1, which includes Odors A, B, and C."
   ]
  },
  {
   "cell_type": "code",
   "execution_count": 7,
   "id": "35140559",
   "metadata": {
    "execution": {
     "iopub.execute_input": "2025-03-28T01:34:49.017750Z",
     "iopub.status.busy": "2025-03-28T01:34:49.017412Z",
     "iopub.status.idle": "2025-03-28T01:34:49.221449Z",
     "shell.execute_reply": "2025-03-28T01:34:49.220957Z"
    }
   },
   "outputs": [
    {
     "name": "stdout",
     "output_type": "stream",
     "text": [
      "Block 1 timing: Start=616.00s, End=2144.00s, Duration=1528.00s\n"
     ]
    },
    {
     "data": {
      "image/png": "[encoded data removed]",
      "text/plain": [
       "<Figure size 1200x600 with 1 Axes>"
      ]
     },
     "metadata": {},
     "output_type": "display_data"
    }
   ],
   "source": [
    "# Get Block 1 time interval and visualize odor presentations\n",
    "if nwb is not None:\n",
    "    try:\n",
    "        # Get Block 1 time interval\n",
    "        block1 = nwb.intervals[\"Block 1\"]\n",
    "        block1_start = block1[\"start_time\"].data[0]\n",
    "        block1_end = block1[\"stop_time\"].data[0]\n",
    "        \n",
    "        print(f\"Block 1 timing: Start={block1_start:.2f}s, End={block1_end:.2f}s, Duration={(block1_end-block1_start):.2f}s\")\n",
    "        \n",
    "        # Create a plot showing the odor presentation timeline for the start of Block 1\n",
    "        fig, ax = plt.subplots(figsize=(12, 6))\n",
    "        \n",
    "        # Only show first 5 minutes (300 seconds) from the block start\n",
    "        time_limit = block1_start + 300  \n",
    "        \n",
    "        odors = [\"Odor A ON\", \"Odor B ON\", \"Odor C ON\"]  # Block 1 has ABC\n",
    "        colors = ['red', 'blue', 'green']\n",
    "        \n",
    "        for i, odor_name in enumerate(odors):\n",
    "            odor = nwb.intervals[odor_name]\n",
    "            start_times = odor[\"start_time\"].data[:]\n",
    "            stop_times = odor[\"stop_time\"].data[:]\n",
    "            \n",
    "            # Filter to only show events in the selected time window\n",
    "            mask = (start_times >= block1_start) & (start_times <= time_limit)\n",
    "            filtered_starts = start_times[mask]\n",
    "            filtered_stops = stop_times[mask]\n",
    "            \n",
    "            for j, (start, stop) in enumerate(zip(filtered_starts, filtered_stops)):\n",
    "                ax.axvspan(start, stop, alpha=0.3, color=colors[i], \n",
    "                          label=f\"{odor_name}\" if j == 0 else \"\")\n",
    "        \n",
    "        # Add block boundary\n",
    "        ax.axvline(block1_start, color='black', linestyle='--', label=f\"Block 1 Start\")\n",
    "        \n",
    "        # Clean up legend (show only unique entries)\n",
    "        handles, labels = ax.get_legend_handles_labels()\n",
    "        by_label = dict(zip(labels, handles))\n",
    "        ax.legend(by_label.values(), by_label.keys(), loc='upper right')\n",
    "        \n",
    "        ax.set_xlim(block1_start, time_limit)\n",
    "        ax.set_xlabel('Time (s)')\n",
    "        ax.set_ylabel('Odor Presentations')\n",
    "        ax.set_title('Odor Presentation Timeline (First 5 Minutes of Block 1)')\n",
    "        plt.tight_layout()\n",
    "        plt.show()\n",
    "    except Exception as e:\n",
    "        print(f\"Error visualizing odor presentations: {str(e)}\")"
   ]
  },
  {
   "cell_type": "markdown",
   "id": "d079a8e2",
   "metadata": {},
   "source": [
    "Let's get more details about the temporal patterns of odor presentations in Block 1."
   ]
  },
  {
   "cell_type": "code",
   "execution_count": 8,
   "id": "22edaaf4",
   "metadata": {
    "execution": {
     "iopub.execute_input": "2025-03-28T01:34:49.223274Z",
     "iopub.status.busy": "2025-03-28T01:34:49.222937Z",
     "iopub.status.idle": "2025-03-28T01:34:49.230650Z",
     "shell.execute_reply": "2025-03-28T01:34:49.230207Z"
    }
   },
   "outputs": [
    {
     "name": "stdout",
     "output_type": "stream",
     "text": [
      "First 5 presentations of each odor in Block 1:\n",
      "\n",
      "Odor A ON:\n",
      "  Presentation 1: Start=645.08s, Duration=2.00s\n",
      "  Presentation 2: Start=664.28s, Duration=2.00s\n",
      "  Presentation 3: Start=676.90s, Duration=2.00s\n",
      "  Presentation 4: Start=683.81s, Duration=2.12s\n",
      "  Presentation 5: Start=713.72s, Duration=2.00s\n",
      "\n",
      "Statistics for Odor A ON in Block 1:\n",
      "  Number of presentations: 81\n",
      "  Average duration: 2.00s\n",
      "  Average interval between presentations: 18.58s\n",
      "\n",
      "Odor B ON:\n",
      "  Presentation 1: Start=627.42s, Duration=2.00s\n",
      "  Presentation 2: Start=633.36s, Duration=2.00s\n",
      "  Presentation 3: Start=638.97s, Duration=2.00s\n",
      "  Presentation 4: Start=651.09s, Duration=2.00s\n",
      "  Presentation 5: Start=690.91s, Duration=2.00s\n",
      "\n",
      "Statistics for Odor B ON in Block 1:\n",
      "  Number of presentations: 81\n",
      "  Average duration: 2.00s\n",
      "  Average interval between presentations: 18.73s\n",
      "\n",
      "Odor C ON:\n",
      "  Presentation 1: Start=621.84s, Duration=2.00s\n",
      "  Presentation 2: Start=657.73s, Duration=2.00s\n",
      "  Presentation 3: Start=670.03s, Duration=2.00s\n",
      "  Presentation 4: Start=696.42s, Duration=2.00s\n",
      "  Presentation 5: Start=701.96s, Duration=2.00s\n",
      "\n",
      "Statistics for Odor C ON in Block 1:\n",
      "  Number of presentations: 81\n",
      "  Average duration: 2.00s\n",
      "  Average interval between presentations: 18.57s\n"
     ]
    }
   ],
   "source": [
    "# Analyze odor presentation patterns in Block 1\n",
    "if nwb is not None:\n",
    "    try:\n",
    "        # Get Block 1 time interval\n",
    "        block1 = nwb.intervals[\"Block 1\"]\n",
    "        block1_start = block1[\"start_time\"].data[0]\n",
    "        block1_end = block1[\"stop_time\"].data[0]\n",
    "        \n",
    "        odors = [\"Odor A ON\", \"Odor B ON\", \"Odor C ON\"]  # Block 1 has ABC\n",
    "        \n",
    "        # Get the first few presentations for each odor to analyze timing patterns\n",
    "        print(\"First 5 presentations of each odor in Block 1:\")\n",
    "        for odor_name in odors:\n",
    "            odor = nwb.intervals[odor_name]\n",
    "            start_times = odor[\"start_time\"].data[:]\n",
    "            stop_times = odor[\"stop_time\"].data[:]\n",
    "            \n",
    "            # Filter to only show events in Block 1\n",
    "            mask = (start_times >= block1_start) & (start_times <= block1_end)\n",
    "            filtered_starts = start_times[mask]\n",
    "            filtered_stops = stop_times[mask]\n",
    "            \n",
    "            # Print the first 5 presentations\n",
    "            if len(filtered_starts) >= 5:\n",
    "                print(f\"\\n{odor_name}:\")\n",
    "                for j in range(5):\n",
    "                    print(f\"  Presentation {j+1}: Start={filtered_starts[j]:.2f}s, Duration={(filtered_stops[j]-filtered_starts[j]):.2f}s\")\n",
    "            \n",
    "            # Calculate and print statistics for this odor\n",
    "            durations = filtered_stops - filtered_starts\n",
    "            \n",
    "            if len(filtered_starts) > 1:\n",
    "                intervals = np.diff(filtered_starts)\n",
    "                print(f\"\\nStatistics for {odor_name} in Block 1:\")\n",
    "                print(f\"  Number of presentations: {len(filtered_starts)}\")\n",
    "                print(f\"  Average duration: {np.mean(durations):.2f}s\")\n",
    "                print(f\"  Average interval between presentations: {np.mean(intervals):.2f}s\")\n",
    "            else:\n",
    "                print(f\"\\nStatistics for {odor_name} in Block 1:\")\n",
    "                print(f\"  Number of presentations: {len(filtered_starts)}\")\n",
    "                if len(filtered_starts) > 0:\n",
    "                    print(f\"  Average duration: {np.mean(durations):.2f}s\")\n",
    "                    print(f\"  No interval data (only one presentation)\")\n",
    "    except Exception as e:\n",
    "        print(f\"Error analyzing odor presentation patterns: {str(e)}\")"
   ]
  },
  {
   "cell_type": "markdown",
   "id": "c23b4ddc",
   "metadata": {},
   "source": [
    "## Electrode Information\n",
    "\n",
    "Let's explore information about the electrodes used in the recordings."
   ]
  },
  {
   "cell_type": "code",
   "execution_count": 9,
   "id": "47658a0d",
   "metadata": {
    "execution": {
     "iopub.execute_input": "2025-03-28T01:34:49.232396Z",
     "iopub.status.busy": "2025-03-28T01:34:49.232058Z",
     "iopub.status.idle": "2025-03-28T01:34:49.240114Z",
     "shell.execute_reply": "2025-03-28T01:34:49.239675Z"
    }
   },
   "outputs": [
    {
     "name": "stdout",
     "output_type": "stream",
     "text": [
      "Number of electrodes: 64\n",
      "Unique electrode locations: ['brain area']\n",
      "\n",
      "First 5 electrodes:\n",
      "  Electrode 0: Location=brain area, Label=imec0.ap#AP112, Depth=2390.0, Hemisphere=Right\n",
      "  Electrode 1: Location=brain area, Label=imec0.ap#AP126, Depth=2285.0, Hemisphere=Right\n",
      "  Electrode 2: Location=brain area, Label=imec0.ap#AP138, Depth=2195.0, Hemisphere=Right\n",
      "  Electrode 3: Location=brain area, Label=imec0.ap#AP200, Depth=2090.0, Hemisphere=Right\n",
      "  Electrode 4: Location=brain area, Label=imec0.ap#AP214, Depth=1985.0, Hemisphere=Right\n"
     ]
    }
   ],
   "source": [
    "# Basic information about electrodes\n",
    "if nwb is not None:\n",
    "    try:\n",
    "        electrodes = nwb.electrodes\n",
    "        n_electrodes = len(electrodes[\"id\"].data[:])\n",
    "        locations = electrodes[\"location\"].data[:]\n",
    "        unique_locations = np.unique(locations)\n",
    "        \n",
    "        print(f\"Number of electrodes: {n_electrodes}\")\n",
    "        print(f\"Unique electrode locations: {unique_locations}\")\n",
    "        \n",
    "        # Show the first few electrodes and their properties\n",
    "        print(\"\\nFirst 5 electrodes:\")\n",
    "        for i in range(min(5, n_electrodes)):\n",
    "            electrode_id = electrodes[\"id\"].data[i]\n",
    "            location = electrodes[\"location\"].data[i] if \"location\" in electrodes.colnames else \"N/A\"\n",
    "            label = electrodes[\"label\"].data[i] if \"label\" in electrodes.colnames else \"N/A\"\n",
    "            depth = electrodes[\"depth\"].data[i] if \"depth\" in electrodes.colnames else \"N/A\"\n",
    "            hemisphere = electrodes[\"hemisphere\"].data[i] if \"hemisphere\" in electrodes.colnames else \"N/A\"\n",
    "            print(f\"  Electrode {electrode_id}: Location={location}, Label={label}, Depth={depth}, Hemisphere={hemisphere}\")\n",
    "    except Exception as e:\n",
    "        print(f\"Error retrieving electrode information: {str(e)}\")"
   ]
  },
  {
   "cell_type": "markdown",
   "id": "46ccd385",
   "metadata": {},
   "source": [
    "## Unit Information\n",
    "\n",
    "Next, let's explore the units (neurons) recorded in this dataset."
   ]
  },
  {
   "cell_type": "code",
   "execution_count": 10,
   "id": "00593ab1",
   "metadata": {
    "execution": {
     "iopub.execute_input": "2025-03-28T01:34:49.241705Z",
     "iopub.status.busy": "2025-03-28T01:34:49.241396Z",
     "iopub.status.idle": "2025-03-28T01:34:50.934133Z",
     "shell.execute_reply": "2025-03-28T01:34:50.933621Z"
    }
   },
   "outputs": [
    {
     "name": "stdout",
     "output_type": "stream",
     "text": [
      "Number of units: 283\n",
      "Unique hemispheres: ['Left' 'Right']\n",
      "\n",
      "First 5 units:\n"
     ]
    },
    {
     "name": "stdout",
     "output_type": "stream",
     "text": [
      "  Unit 0: Depth=2165.0, Hemisphere=Right, Number of spikes=4742\n"
     ]
    },
    {
     "name": "stdout",
     "output_type": "stream",
     "text": [
      "  Unit 1: Depth=2105.0, Hemisphere=Right, Number of spikes=9670\n"
     ]
    },
    {
     "name": "stdout",
     "output_type": "stream",
     "text": [
      "  Unit 2: Depth=2105.0, Hemisphere=Right, Number of spikes=24514\n"
     ]
    },
    {
     "name": "stdout",
     "output_type": "stream",
     "text": [
      "  Unit 3: Depth=2060.0, Hemisphere=Right, Number of spikes=208\n"
     ]
    },
    {
     "name": "stdout",
     "output_type": "stream",
     "text": [
      "  Unit 4: Depth=2045.0, Hemisphere=Right, Number of spikes=42430\n"
     ]
    }
   ],
   "source": [
    "# Basic information about units\n",
    "if nwb is not None:\n",
    "    try:\n",
    "        units = nwb.units\n",
    "        n_units = len(units[\"id\"].data[:])\n",
    "        \n",
    "        if \"hemisphere\" in units.colnames:\n",
    "            hemispheres = units[\"hemisphere\"].data[:]\n",
    "            unique_hemispheres = np.unique(hemispheres)\n",
    "            print(f\"Number of units: {n_units}\")\n",
    "            print(f\"Unique hemispheres: {unique_hemispheres}\")\n",
    "        else:\n",
    "            print(f\"Number of units: {n_units}\")\n",
    "            print(\"Hemisphere information not available\")\n",
    "        \n",
    "        # Show the first few units and their properties\n",
    "        print(\"\\nFirst 5 units:\")\n",
    "        for i in range(min(5, n_units)):\n",
    "            unit_id = units[\"id\"].data[i]\n",
    "            depth = units[\"depth\"].data[i] if \"depth\" in units.colnames else \"N/A\"\n",
    "            hemisphere = units[\"hemisphere\"].data[i] if \"hemisphere\" in units.colnames else \"N/A\"\n",
    "            spike_times = units[\"spike_times\"][i]\n",
    "            print(f\"  Unit {unit_id}: Depth={depth}, Hemisphere={hemisphere}, Number of spikes={len(spike_times)}\")\n",
    "    except Exception as e:\n",
    "        print(f\"Error retrieving unit information: {str(e)}\")"
   ]
  },
  {
   "cell_type": "markdown",
   "id": "c37c4b9b",
   "metadata": {},
   "source": [
    "### Unit Depth Distribution\n",
    "\n",
    "Let's visualize the distribution of unit depths to understand their spatial organization."
   ]
  },
  {
   "cell_type": "code",
   "execution_count": 11,
   "id": "227d644b",
   "metadata": {
    "execution": {
     "iopub.execute_input": "2025-03-28T01:34:50.935769Z",
     "iopub.status.busy": "2025-03-28T01:34:50.935611Z",
     "iopub.status.idle": "2025-03-28T01:34:51.062893Z",
     "shell.execute_reply": "2025-03-28T01:34:51.062373Z"
    }
   },
   "outputs": [
    {
     "data": {
      "image/png": "[encoded data removed]",
      "text/plain": [
       "<Figure size 1000x600 with 1 Axes>"
      ]
     },
     "metadata": {},
     "output_type": "display_data"
    },
    {
     "name": "stdout",
     "output_type": "stream",
     "text": [
      "Depth range: 1460.00 - 2330.00 μm\n",
      "Mean depth: 1848.83 μm\n",
      "Median depth: 1865.00 μm\n"
     ]
    }
   ],
   "source": [
    "# Create a histogram of unit depths\n",
    "if nwb is not None:\n",
    "    try:\n",
    "        if \"depth\" in units.colnames:\n",
    "            plt.figure(figsize=(10, 6))\n",
    "            depths = units[\"depth\"].data[:]\n",
    "            plt.hist(depths, bins=20, color='skyblue', edgecolor='black')\n",
    "            plt.xlabel('Depth (μm)')\n",
    "            plt.ylabel('Number of Units')\n",
    "            plt.title('Distribution of Unit Depths')\n",
    "            plt.tight_layout()\n",
    "            plt.show()\n",
    "            \n",
    "            print(f\"Depth range: {np.min(depths):.2f} - {np.max(depths):.2f} μm\")\n",
    "            print(f\"Mean depth: {np.mean(depths):.2f} μm\")\n",
    "            print(f\"Median depth: {np.median(depths):.2f} μm\")\n",
    "        else:\n",
    "            print(\"Depth information is not available for units\")\n",
    "    except Exception as e:\n",
    "        print(f\"Error creating depth histogram: {str(e)}\")"
   ]
  },
  {
   "cell_type": "markdown",
   "id": "e8f26eb1",
   "metadata": {},
   "source": [
    "## Neural Activity During Odor Presentations\n",
    "\n",
    "Now let's examine how the neural activity changes in response to odor presentations. First, we'll select a subset of units to analyze."
   ]
  },
  {
   "cell_type": "code",
   "execution_count": 12,
   "id": "fba2439c",
   "metadata": {
    "execution": {
     "iopub.execute_input": "2025-03-28T01:34:51.064662Z",
     "iopub.status.busy": "2025-03-28T01:34:51.064239Z",
     "iopub.status.idle": "2025-03-28T01:34:52.442406Z",
     "shell.execute_reply": "2025-03-28T01:34:52.441906Z"
    },
    "lines_to_next_cell": 1
   },
   "outputs": [
    {
     "name": "stdout",
     "output_type": "stream",
     "text": [
      "Selected Units for Analysis:\n"
     ]
    },
    {
     "name": "stdout",
     "output_type": "stream",
     "text": [
      "Unit 1: ID=9, Depth=2105.0, Hemisphere=Right, Spike Count=19380\n"
     ]
    },
    {
     "name": "stdout",
     "output_type": "stream",
     "text": [
      "Unit 2: ID=246, Depth=1655.0, Hemisphere=Left, Spike Count=2580\n"
     ]
    },
    {
     "name": "stdout",
     "output_type": "stream",
     "text": [
      "Unit 3: ID=139, Depth=1925.0, Hemisphere=Left, Spike Count=12371\n"
     ]
    },
    {
     "name": "stdout",
     "output_type": "stream",
     "text": [
      "Unit 4: ID=207, Depth=1580.0, Hemisphere=Left, Spike Count=5398\n"
     ]
    },
    {
     "name": "stdout",
     "output_type": "stream",
     "text": [
      "Unit 5: ID=75, Depth=1970.0, Hemisphere=Right, Spike Count=3509\n"
     ]
    }
   ],
   "source": [
    "# Select a subset of units for analysis\n",
    "if nwb is not None:\n",
    "    try:\n",
    "        units = nwb.units\n",
    "        n_units = len(units[\"id\"].data[:])\n",
    "        \n",
    "        N_SAMPLE_UNITS = min(5, n_units)  # Sample 5 units or fewer if not enough units\n",
    "        np.random.seed(42)  # For reproducibility\n",
    "        sampled_indices = np.random.choice(n_units, size=N_SAMPLE_UNITS, replace=False)\n",
    "        \n",
    "        # Print information about the sampled units\n",
    "        print(\"Selected Units for Analysis:\")\n",
    "        for i, idx in enumerate(sampled_indices):\n",
    "            unit_id = units[\"id\"].data[idx]\n",
    "            unit_depth = units[\"depth\"].data[idx] if \"depth\" in units.colnames else \"N/A\"\n",
    "            unit_hemisphere = units[\"hemisphere\"].data[idx] if \"hemisphere\" in units.colnames else \"N/A\"\n",
    "            n_spikes = len(units[\"spike_times\"][idx])\n",
    "            print(f\"Unit {i+1}: ID={unit_id}, Depth={unit_depth}, Hemisphere={unit_hemisphere}, Spike Count={n_spikes}\")\n",
    "    except Exception as e:\n",
    "        print(f\"Error selecting units for analysis: {str(e)}\")\n",
    "        # Create empty variables to avoid errors in later cells\n",
    "        N_SAMPLE_UNITS = 0\n",
    "        sampled_indices = []"
   ]
  },
  {
   "cell_type": "markdown",
   "id": "4deaa1ae",
   "metadata": {},
   "source": [
    "### Analyzing Neural Responses to Odor A\n",
    "\n",
    "Let's analyze how the selected units respond to Odor A presentations. We'll compare the firing rates before and during odor presentation."
   ]
  },
  {
   "cell_type": "code",
   "execution_count": 13,
   "id": "609a8a35",
   "metadata": {
    "execution": {
     "iopub.execute_input": "2025-03-28T01:34:52.444257Z",
     "iopub.status.busy": "2025-03-28T01:34:52.443981Z",
     "iopub.status.idle": "2025-03-28T01:34:53.717073Z",
     "shell.execute_reply": "2025-03-28T01:34:53.716562Z"
    }
   },
   "outputs": [
    {
     "name": "stdout",
     "output_type": "stream",
     "text": [
      "\n",
      "Odor A Response Analysis:\n"
     ]
    },
    {
     "name": "stdout",
     "output_type": "stream",
     "text": [
      "Unit 1: Pre-odor rate=0.00 Hz, During-odor rate=0.00 Hz, Ratio=0 (no spikes)\n"
     ]
    },
    {
     "name": "stdout",
     "output_type": "stream",
     "text": [
      "Unit 2: Pre-odor rate=0.00 Hz, During-odor rate=0.00 Hz, Ratio=0 (no spikes)\n"
     ]
    },
    {
     "name": "stdout",
     "output_type": "stream",
     "text": [
      "Unit 3: Pre-odor rate=4.80 Hz, During-odor rate=3.62 Hz, Ratio=0.76\n"
     ]
    },
    {
     "name": "stdout",
     "output_type": "stream",
     "text": [
      "Unit 4: Pre-odor rate=1.80 Hz, During-odor rate=3.62 Hz, Ratio=2.01\n"
     ]
    },
    {
     "name": "stdout",
     "output_type": "stream",
     "text": [
      "Unit 5: Pre-odor rate=0.00 Hz, During-odor rate=0.02 Hz, Ratio=inf\n"
     ]
    }
   ],
   "source": [
    "# Function to count spikes in a time window for a given unit\n",
    "def count_spikes_in_window(spike_times, start_time, end_time):\n",
    "    return np.sum((spike_times >= start_time) & (spike_times <= end_time))\n",
    "\n",
    "# Set up analysis parameters\n",
    "if nwb is not None and N_SAMPLE_UNITS > 0:\n",
    "    try:\n",
    "        # Get Block 1 time interval\n",
    "        block1 = nwb.intervals[\"Block 1\"]\n",
    "        block1_start = block1[\"start_time\"].data[0]\n",
    "        block1_end = block1[\"stop_time\"].data[0]\n",
    "        \n",
    "        # Get Odor A presentation times within Block 1\n",
    "        odorA = nwb.intervals[\"Odor A ON\"]\n",
    "        odorA_starts = odorA[\"start_time\"].data[:]\n",
    "        odorA_stops = odorA[\"stop_time\"].data[:]\n",
    "        mask_odorA = (odorA_starts >= block1_start) & (odorA_starts <= block1_end)\n",
    "        odorA_starts_block1 = odorA_starts[mask_odorA]\n",
    "        odorA_stops_block1 = odorA_stops[mask_odorA]\n",
    "        \n",
    "        # Define analysis windows\n",
    "        pre_window = 1.0  # seconds before stimulus\n",
    "        post_window = 2.0  # stimulus duration\n",
    "        \n",
    "        # Make sure we have odor presentations to analyze\n",
    "        if len(odorA_starts_block1) > 0:\n",
    "            # Calculate firing rates before and during odor presentation\n",
    "            print(\"\\nOdor A Response Analysis:\")\n",
    "            response_ratios = np.zeros(N_SAMPLE_UNITS)\n",
    "            \n",
    "            for i, idx in enumerate(sampled_indices):\n",
    "                spike_times = units[\"spike_times\"][idx]\n",
    "                \n",
    "                # Count spikes in windows before and during odor presentation\n",
    "                pre_counts = []\n",
    "                during_counts = []\n",
    "                \n",
    "                # Analyze up to 20 presentations (or fewer if not enough)\n",
    "                n_presentations = min(20, len(odorA_starts_block1))\n",
    "                \n",
    "                for start, stop in zip(odorA_starts_block1[:n_presentations], odorA_stops_block1[:n_presentations]):\n",
    "                    pre_start = start - pre_window\n",
    "                    pre_end = start\n",
    "                    \n",
    "                    n_pre = count_spikes_in_window(spike_times, pre_start, pre_end)\n",
    "                    n_during = count_spikes_in_window(spike_times, start, stop)\n",
    "                    \n",
    "                    pre_counts.append(n_pre)\n",
    "                    during_counts.append(n_during)\n",
    "                \n",
    "                # Calculate mean spike counts and firing rates\n",
    "                mean_pre = np.mean(pre_counts) if pre_counts else 0\n",
    "                mean_during = np.mean(during_counts) if during_counts else 0\n",
    "                \n",
    "                # Calculate firing rates (spikes per second)\n",
    "                pre_rate = mean_pre / pre_window\n",
    "                during_rate = mean_during / (odorA_stops_block1[0] - odorA_starts_block1[0]) if len(odorA_starts_block1) > 0 else 0\n",
    "                \n",
    "                # Calculate response ratio (during/pre)\n",
    "                if pre_rate > 0:\n",
    "                    ratio = during_rate / pre_rate\n",
    "                    ratio_str = f\"{ratio:.2f}\"\n",
    "                else:\n",
    "                    if during_rate > 0:\n",
    "                        ratio = float('inf')\n",
    "                        ratio_str = \"inf\"\n",
    "                    else:\n",
    "                        ratio = 0\n",
    "                        ratio_str = \"0 (no spikes)\"\n",
    "                \n",
    "                response_ratios[i] = ratio if not np.isinf(ratio) else 0\n",
    "                \n",
    "                print(f\"Unit {i+1}: Pre-odor rate={pre_rate:.2f} Hz, During-odor rate={during_rate:.2f} Hz, Ratio={ratio_str}\")\n",
    "        else:\n",
    "            print(\"No Odor A presentations found in Block 1\")\n",
    "    except Exception as e:\n",
    "        print(f\"Error analyzing neural responses: {str(e)}\")\n",
    "        # Create an empty variable to avoid errors in later cells\n",
    "        response_ratios = np.zeros(N_SAMPLE_UNITS)\n",
    "else:\n",
    "    print(\"No units available for analysis\")"
   ]
  },
  {
   "cell_type": "markdown",
   "id": "d075905f",
   "metadata": {},
   "source": [
    "Now let's visualize the response ratios for the sampled units:"
   ]
  },
  {
   "cell_type": "code",
   "execution_count": 14,
   "id": "08e16c0b",
   "metadata": {
    "execution": {
     "iopub.execute_input": "2025-03-28T01:34:53.718754Z",
     "iopub.status.busy": "2025-03-28T01:34:53.718592Z",
     "iopub.status.idle": "2025-03-28T01:34:53.843262Z",
     "shell.execute_reply": "2025-03-28T01:34:53.842684Z"
    }
   },
   "outputs": [
    {
     "data": {
      "image/png": "[encoded data removed]",
      "text/plain": [
       "<Figure size 1000x600 with 1 Axes>"
      ]
     },
     "metadata": {},
     "output_type": "display_data"
    },
    {
     "name": "stdout",
     "output_type": "stream",
     "text": [
      "\n",
      "Response Categories:\n",
      "  Green bars (ratio > 1.2): Units that increase firing during odor\n",
      "  Blue bars (0.8 < ratio < 1.2): Units with little change\n",
      "  Red bars (ratio < 0.8): Units that decrease firing during odor\n"
     ]
    }
   ],
   "source": [
    "# Create a figure showing response ratios for all sampled units\n",
    "if nwb is not None and N_SAMPLE_UNITS > 0:\n",
    "    try:\n",
    "        # Only create plot if we have valid ratios\n",
    "        if np.any(~np.isnan(response_ratios)) and np.any(response_ratios != 0):\n",
    "            plt.figure(figsize=(10, 6))\n",
    "            bar_colors = ['green' if ratio > 1.2 else 'blue' if ratio > 0.8 else 'red' for ratio in response_ratios]\n",
    "            bars = plt.bar(range(N_SAMPLE_UNITS), response_ratios, color=bar_colors)\n",
    "            \n",
    "            plt.axhline(1.0, linestyle='--', color='black', alpha=0.7)\n",
    "            plt.xlabel('Unit Index')\n",
    "            plt.ylabel('Response Ratio (During Odor / Pre-Odor)')\n",
    "            plt.title('Odor A Response Magnitude for Sample Units')\n",
    "            plt.xticks(range(N_SAMPLE_UNITS), [f\"Unit {i+1}\" for i in range(N_SAMPLE_UNITS)])\n",
    "            plt.tight_layout()\n",
    "            plt.show()\n",
    "            \n",
    "            print(\"\\nResponse Categories:\")\n",
    "            print(\"  Green bars (ratio > 1.2): Units that increase firing during odor\")\n",
    "            print(\"  Blue bars (0.8 < ratio < 1.2): Units with little change\")\n",
    "            print(\"  Red bars (ratio < 0.8): Units that decrease firing during odor\")\n",
    "        else:\n",
    "            print(\"No valid response ratios to plot\")\n",
    "    except Exception as e:\n",
    "        print(f\"Error creating response ratio plot: {str(e)}\")"
   ]
  },
  {
   "cell_type": "markdown",
   "id": "b4cd3039",
   "metadata": {},
   "source": [
    "## LFP Activity Around Odor Presentations\n",
    "\n",
    "Local Field Potential (LFP) recordings represent the summed electrical activity of a population of neurons. Let's examine the LFP activity around odor presentations to see if there are any changes in neural population activity."
   ]
  },
  {
   "cell_type": "code",
   "execution_count": 15,
   "id": "b3829357",
   "metadata": {
    "execution": {
     "iopub.execute_input": "2025-03-28T01:34:53.845154Z",
     "iopub.status.busy": "2025-03-28T01:34:53.844826Z",
     "iopub.status.idle": "2025-03-28T01:34:53.852259Z",
     "shell.execute_reply": "2025-03-28T01:34:53.851826Z"
    }
   },
   "outputs": [
    {
     "name": "stdout",
     "output_type": "stream",
     "text": [
      "Error analyzing LFP data: MultiContainerInterface.__make_getitem.<locals>._func: incorrect type for 'name' (got 'int', expected 'str')\n"
     ]
    }
   ],
   "source": [
    "# Explore LFP data\n",
    "if nwb is not None:\n",
    "    try:\n",
    "        # Check if LFP data exists\n",
    "        if \"ecephys\" in nwb.processing and \"LFP\" in nwb.processing[\"ecephys\"]:\n",
    "            # Get LFP data \n",
    "            LFP = nwb.processing[\"ecephys\"][\"LFP\"]\n",
    "            print(f\"LFP data shape: {LFP.data.shape}\")  # [time, channels]\n",
    "            print(f\"LFP sampling rate: {LFP.rate} Hz\")\n",
    "            \n",
    "            # Get electrode information\n",
    "            electrodes = nwb.electrodes\n",
    "            electrode_ids = electrodes['id'].data[:]\n",
    "            \n",
    "            # Select a single channel for visualization\n",
    "            channel_idx = 0\n",
    "            print(f\"Using channel index {channel_idx} for LFP analysis\")\n",
    "            \n",
    "            # Make sure we have odor presentations to analyze\n",
    "            if 'odorA_starts_block1' in locals() and len(odorA_starts_block1) > 0:\n",
    "                # Calculate time points for a short segment around an odor presentation\n",
    "                # Let's look at the 5th odor presentation or an earlier one if not enough\n",
    "                odor_idx = min(4, len(odorA_starts_block1) - 1)\n",
    "                odor_start = odorA_starts_block1[odor_idx]\n",
    "                odor_stop = odorA_stops_block1[odor_idx]\n",
    "                \n",
    "                # Define a window around the odor presentation\n",
    "                pre_time = 2.0  # 2 seconds before odor onset\n",
    "                post_time = 4.0  # 4 seconds after odor onset\n",
    "                \n",
    "                window_start = odor_start - pre_time\n",
    "                window_end = odor_start + post_time\n",
    "                \n",
    "                # Convert times to sample indices\n",
    "                start_sample = int((window_start - LFP.starting_time) * LFP.rate)\n",
    "                end_sample = int((window_end - LFP.starting_time) * LFP.rate)\n",
    "                \n",
    "                # Make sure we don't go out of bounds\n",
    "                start_sample = max(0, start_sample)\n",
    "                end_sample = min(LFP.data.shape[0], end_sample)\n",
    "                \n",
    "                print(f\"Extracting LFP samples from {start_sample} to {end_sample} (window around odor presentation)\")\n",
    "                \n",
    "                # Extract the LFP data for this time window and channel\n",
    "                lfp_segment = LFP.data[start_sample:end_sample, channel_idx]\n",
    "                \n",
    "                # Create a time vector (in seconds relative to odor onset)\n",
    "                time_vector = np.arange(len(lfp_segment)) / LFP.rate + (window_start - odor_start)\n",
    "                \n",
    "                # Plot the LFP data\n",
    "                plt.figure(figsize=(12, 6))\n",
    "                plt.plot(time_vector, lfp_segment)\n",
    "                plt.axvline(0, color='blue', linestyle='--', label='Odor Onset')\n",
    "                plt.axvspan(0, odor_stop - odor_start, color='red', alpha=0.2, label='Odor On')\n",
    "                plt.xlabel('Time relative to odor onset (s)')\n",
    "                plt.ylabel('LFP Amplitude (µV)')\n",
    "                plt.title(f'LFP Activity around Odor A Presentation (Channel {channel_idx})')\n",
    "                plt.legend()\n",
    "                plt.grid(True)\n",
    "                plt.show()\n",
    "            else:\n",
    "                print(\"No odor presentations available for LFP analysis\")\n",
    "        else:\n",
    "            print(\"LFP data not found in the dataset\")\n",
    "    except Exception as e:\n",
    "        print(f\"Error analyzing LFP data: {str(e)}\")"
   ]
  },
  {
   "cell_type": "markdown",
   "id": "696330f7",
   "metadata": {},
   "source": [
    "## Summary\n",
    "\n",
    "In this notebook, we've explored Dandiset 001335, which contains Neuropixels recordings from the hippocampus of head-fixed mice during odor presentation. The main findings include:\n",
    "\n",
    "1. The experiment consists of three blocks, each with different odor presentations:\n",
    "   - Block 1: Odors A, B, C\n",
    "   - Block 2: Odors D, E, F\n",
    "   - Block 3: Localizer\n",
    "\n",
    "2. Each odor presentation lasts about 2 seconds, with approximately 81 presentations of each odor in each block.\n",
    "\n",
    "3. The dataset includes recordings from 283 units across both left and right hippocampus, with depths showing a bimodal distribution.\n",
    "\n",
    "4. Units show varying responses to odor stimuli, with some increasing their firing rate, some decreasing, and others showing little change.\n",
    "\n",
    "5. The LFP data reveals population-level neural activity, which can be further analyzed with time-frequency methods to reveal oscillatory components.\n",
    "\n",
    "This analysis provides a foundation for more detailed investigations of how hippocampal neurons respond to olfactory stimuli. Potential follow-up analyses could include:\n",
    "\n",
    "- Comparing responses across different odors to assess odor selectivity\n",
    "- Examining how unit activity correlates with specific LFP frequency bands\n",
    "- Investigating population-level coding of odor identity or intensity\n",
    "- Comparing neural responses across the three experimental blocks\n",
    "\n",
    "Remember that this notebook was AI-generated and the analysis should be carefully verified before drawing scientific conclusions."
   ]
  }
 ],
 "metadata": {
  "jupytext": {
   "cell_metadata_filter": "-all",
   "main_language": "python",
   "notebook_metadata_filter": "-all"
  },
  "language_info": {
   "codemirror_mode": {
    "name": "ipython",
    "version": 3
   },
   "file_extension": ".py",
   "mimetype": "text/x-python",
   "name": "python",
   "nbconvert_exporter": "python",
   "pygments_lexer": "ipython3",
   "version": "3.11.11"
  }
 },
 "nbformat": 4,
 "nbformat_minor": 5
}
