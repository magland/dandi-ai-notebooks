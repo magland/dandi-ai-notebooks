{
 "cells": [
  {
   "cell_type": "markdown",
   "id": "2bf053d2",
   "metadata": {},
   "source": [
    "# AI-Generated DANDI Notebook: Caution Advised\n",
    "\n",
    "***This notebook was AI-generated using `dandi-notebook-gen` and has not been fully verified. Use caution when interpreting the code or results.***\n",
    "\n",
    "This notebook provides a starting point for exploring and analyzing data from Dandiset 001275, \"Mental navigation primate PPC Neupane_Fiete_Jazayeri.\"\n",
    "\n",
    "The purpose of this notebook is to illustrate how to access and visualize data, not to draw scientific conclusions.\n",
    "\n",
    "Before running this notebook, make sure you have the following packages installed:\n",
    "```bash\n",
    "pip install pynwb lindi matplotlib seaborn dandi\n",
    "```"
   ]
  },
  {
   "cell_type": "code",
   "execution_count": 1,
   "id": "1aa05649",
   "metadata": {
    "execution": {
     "iopub.execute_input": "2025-04-04T12:43:45.822755Z",
     "iopub.status.busy": "2025-04-04T12:43:45.822443Z",
     "iopub.status.idle": "2025-04-04T12:43:47.405743Z",
     "shell.execute_reply": "2025-04-04T12:43:47.405172Z"
    }
   },
   "outputs": [],
   "source": [
    "# Import necessary libraries\n",
    "import pynwb\n",
    "import lindi\n",
    "import matplotlib.pyplot as plt\n",
    "import numpy as np\n",
    "import seaborn as sns\n",
    "sns.set_theme()"
   ]
  },
  {
   "cell_type": "markdown",
   "id": "3b332c7a",
   "metadata": {},
   "source": [
    "## 1. Introduction to the Dandiset\n",
    "\n",
    "Dandiset 001275, named \"Mental navigation primate PPC Neupane_Fiete_Jazayeri,\" contains neurophysiology data collected from two primates during a mental navigation task.\n",
    "The data is associated with a previously published study (https://doi.org/10.1038/s41586-024-07557-z).\n",
    "\n",
    "The dataset includes data from the entorhinal cortex.\n",
    "\n",
    "Key metadata:\n",
    "- **Name:** Mental navigation primate PPC Neupane_Fiete_Jazayeri\n",
    "- **Description:** This dataset contains neurophysiology data collected from two primates during a mental navigation task\n",
    "- **License:** CC-BY-4.0\n",
    "- **Contributors:** Neupane, Sujaya\n",
    "- **Measurement Technique:** multi electrode extracellular electrophysiology recording technique"
   ]
  },
  {
   "cell_type": "markdown",
   "id": "42f09477",
   "metadata": {},
   "source": [
    "## 2. Dataset Structure Exploration\n",
    "\n",
    "First, let's use the DANDI API to list all of the assets in the Dandiset."
   ]
  },
  {
   "cell_type": "code",
   "execution_count": 2,
   "id": "40bdc075",
   "metadata": {
    "execution": {
     "iopub.execute_input": "2025-04-04T12:43:47.408121Z",
     "iopub.status.busy": "2025-04-04T12:43:47.407486Z",
     "iopub.status.idle": "2025-04-04T12:43:48.180562Z",
     "shell.execute_reply": "2025-04-04T12:43:48.180049Z"
    }
   },
   "outputs": [
    {
     "name": "stdout",
     "output_type": "stream",
     "text": [
      "Number of assets in the dandiset: 20\n",
      "sub-mahler/sub-mahler_ses-03122021_behavior+ecephys.nwb\n",
      "sub-mahler/sub-mahler_ses-03172021_behavior+ecephys.nwb\n",
      "sub-mahler/sub-mahler_ses-03152021_behavior+ecephys.nwb\n",
      "sub-mahler/sub-mahler_ses-03182021_behavior+ecephys.nwb\n",
      "sub-mahler/sub-mahler_ses-03192021_behavior+ecephys.nwb\n",
      "sub-mahler/sub-mahler_ses-03122021_ecephys.nwb\n",
      "sub-mahler/sub-mahler_ses-03172021_ecephys.nwb\n",
      "sub-mahler/sub-mahler_ses-03152021_ecephys.nwb\n",
      "sub-mahler/sub-mahler_ses-03192021_ecephys.nwb\n",
      "sub-mahler/sub-mahler_ses-03182021_ecephys.nwb\n",
      "sub-amadeus/sub-amadeus_ses-06242019_behavior+ecephys.nwb\n",
      "sub-amadeus/sub-amadeus_ses-01042020_behavior+ecephys.nwb\n",
      "sub-amadeus/sub-amadeus_ses-06302020_behavior+ecephys.nwb\n",
      "sub-amadeus/sub-amadeus_ses-07032020_behavior+ecephys.nwb\n",
      "sub-amadeus/sub-amadeus_ses-07082020_behavior+ecephys.nwb\n",
      "sub-amadeus/sub-amadeus_ses-06242019_ecephys.nwb\n",
      "sub-amadeus/sub-amadeus_ses-01042020_ecephys.nwb\n",
      "sub-amadeus/sub-amadeus_ses-06302020_ecephys.nwb\n",
      "sub-amadeus/sub-amadeus_ses-07032020_ecephys.nwb\n",
      "sub-amadeus/sub-amadeus_ses-07082020_ecephys.nwb\n"
     ]
    }
   ],
   "source": [
    "from dandi.dandiapi import DandiAPIClient\n",
    "client = DandiAPIClient()\n",
    "dandiset = client.get_dandiset(\"001275\")\n",
    "assets = list(dandiset.get_assets())\n",
    "print(f\"Number of assets in the dandiset: {len(assets)}\")\n",
    "for asset in assets:\n",
    "    print(asset.path)"
   ]
  },
  {
   "cell_type": "markdown",
   "id": "0a08f046",
   "metadata": {},
   "source": [
    "## 3. Accessing and Visualizing Sample Data from NWB Files\n",
    "\n",
    "We will load data from the NWB file: `sub-amadeus/sub-amadeus_ses-01042020_ecephys.nwb`. This file contains extracellular electrophysiology data."
   ]
  },
  {
   "cell_type": "code",
   "execution_count": 3,
   "id": "9b62c2b9",
   "metadata": {
    "execution": {
     "iopub.execute_input": "2025-04-04T12:43:48.184124Z",
     "iopub.status.busy": "2025-04-04T12:43:48.182182Z",
     "iopub.status.idle": "2025-04-04T12:43:48.866124Z",
     "shell.execute_reply": "2025-04-04T12:43:48.865549Z"
    }
   },
   "outputs": [
    {
     "name": "stderr",
     "output_type": "stream",
     "text": [
      "/opt/conda/lib/python3.11/site-packages/hdmf/spec/namespace.py:535: UserWarning: Ignoring cached namespace 'core' version 2.6.0-alpha because version 2.7.0 is already loaded.\n",
      "  warn(\"Ignoring cached namespace '%s' version %s because version %s is already loaded.\"\n"
     ]
    }
   ],
   "source": [
    "# Load the NWB file\n",
    "try:\n",
    "    f = lindi.LindiH5pyFile.from_lindi_file(\"https://lindi.neurosift.org/dandi/dandisets/001275/assets/0bbd0039-0f40-4eb2-b67a-93802fb3b28d/nwb.lindi.json\")\n",
    "    nwb = pynwb.NWBHDF5IO(file=f, mode='r').read()\n",
    "except Exception as e:\n",
    "    print(f\"Error loading NWB file: {e}\")"
   ]
  },
  {
   "cell_type": "markdown",
   "id": "04bf1ffd",
   "metadata": {},
   "source": [
    "Let's inspect the contents of the NWB file."
   ]
  },
  {
   "cell_type": "code",
   "execution_count": 4,
   "id": "af748694",
   "metadata": {
    "execution": {
     "iopub.execute_input": "2025-04-04T12:43:48.868122Z",
     "iopub.status.busy": "2025-04-04T12:43:48.867848Z",
     "iopub.status.idle": "2025-04-04T12:43:48.873267Z",
     "shell.execute_reply": "2025-04-04T12:43:48.872832Z"
    }
   },
   "outputs": [
    {
     "data": {
      "text/plain": [
       "'Data from macaque performing mental navigation task. Subject is presented with a start and a target landmark, sampled from a linear map of 6 landmarks on a screen. After a delay, the subject is then cued with a go signal to navigate from start to target landmark with a joystick. Subject should respond by deflecting the joystick in the right direction and holding it until the subject thinks it has arrived at the target landmark. The visual drift or intervening landmarks are all occluded from view making the task a purely mental navigation.'"
      ]
     },
     "execution_count": 4,
     "metadata": {},
     "output_type": "execute_result"
    }
   ],
   "source": [
    "nwb.session_description"
   ]
  },
  {
   "cell_type": "code",
   "execution_count": 5,
   "id": "912294a3",
   "metadata": {
    "execution": {
     "iopub.execute_input": "2025-04-04T12:43:48.874899Z",
     "iopub.status.busy": "2025-04-04T12:43:48.874652Z",
     "iopub.status.idle": "2025-04-04T12:43:48.878044Z",
     "shell.execute_reply": "2025-04-04T12:43:48.877633Z"
    }
   },
   "outputs": [
    {
     "data": {
      "text/plain": [
       "'1ff1b4c0-6579-43c9-abcc-1cf4626ee781'"
      ]
     },
     "execution_count": 5,
     "metadata": {},
     "output_type": "execute_result"
    }
   ],
   "source": [
    "nwb.identifier"
   ]
  },
  {
   "cell_type": "code",
   "execution_count": 6,
   "id": "ec7cce34",
   "metadata": {
    "execution": {
     "iopub.execute_input": "2025-04-04T12:43:48.879802Z",
     "iopub.status.busy": "2025-04-04T12:43:48.879430Z",
     "iopub.status.idle": "2025-04-04T12:43:48.882697Z",
     "shell.execute_reply": "2025-04-04T12:43:48.882283Z"
    }
   },
   "outputs": [
    {
     "data": {
      "text/plain": [
       "datetime.datetime(2020, 1, 4, 0, 0, tzinfo=tzoffset(None, -18000))"
      ]
     },
     "execution_count": 6,
     "metadata": {},
     "output_type": "execute_result"
    }
   ],
   "source": [
    "nwb.session_start_time"
   ]
  },
  {
   "cell_type": "markdown",
   "id": "4bc8e52e",
   "metadata": {},
   "source": [
    "Now we can load the ElectricalSeries data."
   ]
  },
  {
   "cell_type": "code",
   "execution_count": 7,
   "id": "10c45041",
   "metadata": {
    "execution": {
     "iopub.execute_input": "2025-04-04T12:43:48.884422Z",
     "iopub.status.busy": "2025-04-04T12:43:48.884071Z",
     "iopub.status.idle": "2025-04-04T12:43:48.887365Z",
     "shell.execute_reply": "2025-04-04T12:43:48.886935Z"
    }
   },
   "outputs": [],
   "source": [
    "# Get the ElectricalSeries object\n",
    "try:\n",
    "    electrical_series = nwb.acquisition[\"ElectricalSeriesVP0\"]\n",
    "    data = electrical_series.data\n",
    "    rate = electrical_series.rate\n",
    "    electrodes = electrical_series.electrodes\n",
    "    electrode_ids = electrodes[\"id\"].data[:]\n",
    "\n",
    "except Exception as e:\n",
    "    print(f\"Error accessing ElectricalSeries data: {e}\")"
   ]
  },
  {
   "cell_type": "markdown",
   "id": "453e2a23",
   "metadata": {},
   "source": [
    "The shape of the data is:"
   ]
  },
  {
   "cell_type": "code",
   "execution_count": 8,
   "id": "0f2ea3bb",
   "metadata": {
    "execution": {
     "iopub.execute_input": "2025-04-04T12:43:48.888947Z",
     "iopub.status.busy": "2025-04-04T12:43:48.888661Z",
     "iopub.status.idle": "2025-04-04T12:43:48.891859Z",
     "shell.execute_reply": "2025-04-04T12:43:48.891448Z"
    }
   },
   "outputs": [
    {
     "data": {
      "text/plain": [
       "(208309760, 32)"
      ]
     },
     "execution_count": 8,
     "metadata": {},
     "output_type": "execute_result"
    }
   ],
   "source": [
    "data.shape"
   ]
  },
  {
   "cell_type": "markdown",
   "id": "0c722855",
   "metadata": {},
   "source": [
    "The sampling rate is:"
   ]
  },
  {
   "cell_type": "code",
   "execution_count": 9,
   "id": "7125991e",
   "metadata": {
    "execution": {
     "iopub.execute_input": "2025-04-04T12:43:48.893436Z",
     "iopub.status.busy": "2025-04-04T12:43:48.893145Z",
     "iopub.status.idle": "2025-04-04T12:43:48.896204Z",
     "shell.execute_reply": "2025-04-04T12:43:48.895788Z"
    }
   },
   "outputs": [
    {
     "data": {
      "text/plain": [
       "30000.0"
      ]
     },
     "execution_count": 9,
     "metadata": {},
     "output_type": "execute_result"
    }
   ],
   "source": [
    "rate"
   ]
  },
  {
   "cell_type": "markdown",
   "id": "394342fb",
   "metadata": {},
   "source": [
    "The electrode IDs are:"
   ]
  },
  {
   "cell_type": "code",
   "execution_count": 10,
   "id": "f351dda8",
   "metadata": {
    "execution": {
     "iopub.execute_input": "2025-04-04T12:43:48.897759Z",
     "iopub.status.busy": "2025-04-04T12:43:48.897484Z",
     "iopub.status.idle": "2025-04-04T12:43:48.900844Z",
     "shell.execute_reply": "2025-04-04T12:43:48.900411Z"
    }
   },
   "outputs": [
    {
     "data": {
      "text/plain": [
       "array([ 0,  1,  2,  3,  4,  5,  6,  7,  8,  9, 10, 11, 12, 13, 14, 15, 16,\n",
       "       17, 18, 19, 20, 21, 22, 23, 24, 25, 26, 27, 28, 29, 30, 31])"
      ]
     },
     "execution_count": 10,
     "metadata": {},
     "output_type": "execute_result"
    }
   ],
   "source": [
    "electrode_ids"
   ]
  },
  {
   "cell_type": "markdown",
   "id": "69e62d73",
   "metadata": {},
   "source": [
    "Let's plot a small subset of the data to visualize the neural activity. We will plot 4 channels for 1000 timepoints."
   ]
  },
  {
   "cell_type": "code",
   "execution_count": 11,
   "id": "65b295cb",
   "metadata": {
    "execution": {
     "iopub.execute_input": "2025-04-04T12:43:48.902479Z",
     "iopub.status.busy": "2025-04-04T12:43:48.902188Z",
     "iopub.status.idle": "2025-04-04T12:43:49.514669Z",
     "shell.execute_reply": "2025-04-04T12:43:49.514122Z"
    }
   },
   "outputs": [],
   "source": [
    "# Select a subset of channels and time points\n",
    "num_channels = 4\n",
    "num_timepoints = 1000\n",
    "start_channel = 0\n",
    "start_time = 0\n",
    "\n",
    "# Extract the data subset\n",
    "try:\n",
    "    subset_channels = electrode_ids[start_channel:start_channel + num_channels]\n",
    "    channel_indices = np.where(np.isin(electrodes[\"id\"].data[:], subset_channels))[0]\n",
    "    subset_data = data[start_time:start_time + num_timepoints, channel_indices]\n",
    "    time = np.arange(start_time, start_time + num_timepoints) / rate\n",
    "except Exception as e:\n",
    "    print(f\"Error extracting data subset: {e}\")"
   ]
  },
  {
   "cell_type": "code",
   "execution_count": 12,
   "id": "9770df3d",
   "metadata": {
    "execution": {
     "iopub.execute_input": "2025-04-04T12:43:49.516716Z",
     "iopub.status.busy": "2025-04-04T12:43:49.516465Z",
     "iopub.status.idle": "2025-04-04T12:43:49.733856Z",
     "shell.execute_reply": "2025-04-04T12:43:49.733332Z"
    }
   },
   "outputs": [
    {
     "name": "stderr",
     "output_type": "stream",
     "text": [
      "/opt/conda/lib/python3.11/site-packages/matplotlib/axes/_base.py:2985: RuntimeWarning: overflow encountered in scalar subtract\n",
      "  x0, x1 = inverse_trans.transform([x0t - delta, x1t + delta])\n"
     ]
    },
    {
     "data": {
      "image/png": "[encoded data removed]",
      "text/plain": [
       "<Figure size 1000x600 with 1 Axes>"
      ]
     },
     "metadata": {},
     "output_type": "display_data"
    }
   ],
   "source": [
    "# Plot the data\n",
    "try:\n",
    "    plt.figure(figsize=(10, 6))\n",
    "    for i in range(num_channels):\n",
    "        plt.plot(time, subset_data[:, i], label=f\"Channel {subset_channels[i]}\")\n",
    "\n",
    "    plt.xlabel(\"Time (s)\")\n",
    "    plt.ylabel(\"Voltage (uV)\")\n",
    "    plt.title(\"Extracellular Electrophysiology Data\")\n",
    "    plt.legend()\n",
    "    plt.show() # displaying plot in notebook\n",
    "    # plt.savefig(\"tmp_scripts/ecephys_plot.png\")\n",
    "    plt.close()\n",
    "\n",
    "except Exception as e:\n",
    "    print(f\"Error plotting data: {e}\")"
   ]
  },
  {
   "cell_type": "markdown",
   "id": "688aae57",
   "metadata": {},
   "source": [
    "The plot shows the voltage for four channels over time. The voltage for each channel remains close to zero during this time."
   ]
  },
  {
   "cell_type": "markdown",
   "id": "7092dce5",
   "metadata": {},
   "source": [
    "## 4. Example Analyses\n",
    "\n",
    "Here are some examples of common analyses that might be relevant to this dataset:\n",
    "\n",
    "- Spike sorting\n",
    "- Local field potential (LFP) analysis\n",
    "- Analysis of neural activity during the mental navigation task"
   ]
  },
  {
   "cell_type": "markdown",
   "id": "6c0d83f0",
   "metadata": {},
   "source": [
    "This notebook provides a basic introduction to the Dandiset and demonstrates how to access and visualize the data."
   ]
  }
 ],
 "metadata": {
  "jupytext": {
   "cell_metadata_filter": "-all",
   "main_language": "python",
   "notebook_metadata_filter": "-all"
  },
  "language_info": {
   "codemirror_mode": {
    "name": "ipython",
    "version": 3
   },
   "file_extension": ".py",
   "mimetype": "text/x-python",
   "name": "python",
   "nbconvert_exporter": "python",
   "pygments_lexer": "ipython3",
   "version": "3.11.10"
  }
 },
 "nbformat": 4,
 "nbformat_minor": 5
}
